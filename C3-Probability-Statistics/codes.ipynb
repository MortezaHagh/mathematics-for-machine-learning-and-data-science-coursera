{
 "cells": [
  {
   "cell_type": "markdown",
   "id": "5b8c1d12",
   "metadata": {},
   "source": [
    "# C1-Numpy"
   ]
  },
  {
   "cell_type": "code",
   "execution_count": 1,
   "id": "5d7987aa",
   "metadata": {},
   "outputs": [],
   "source": [
    "import numpy as np"
   ]
  },
  {
   "cell_type": "markdown",
   "id": "b26481b5",
   "metadata": {},
   "source": [
    "- When computing the standard deviation be sure to compute the sample one instead of the population one. To accomplish this you can set the parameter `ddof=1` within the [np.std](https://numpy.org/doc/stable/reference/generated/numpy.std.html) function. This ensures that the denominator of the expression for the standard deviation is `N-1` rather than `N`."
   ]
  },
  {
   "cell_type": "code",
   "execution_count": 2,
   "id": "60cbd258",
   "metadata": {},
   "outputs": [],
   "source": [
    "data = np.array([1, 2, 3, 4, 5])\n",
    "s = np.std(data, ddof=1)"
   ]
  },
  {
   "cell_type": "code",
   "execution_count": 3,
   "id": "e8ceeaf2",
   "metadata": {},
   "outputs": [
    {
     "data": {
      "text/plain": [
       "np.int64(144)"
      ]
     },
     "execution_count": 3,
     "metadata": {},
     "output_type": "execute_result"
    }
   ],
   "source": [
    "np.square(12)"
   ]
  },
  {
   "cell_type": "markdown",
   "id": "b0090bff",
   "metadata": {},
   "source": [
    "# C2-Pandas"
   ]
  },
  {
   "cell_type": "code",
   "execution_count": null,
   "id": "31c289e6",
   "metadata": {},
   "outputs": [],
   "source": []
  },
  {
   "cell_type": "code",
   "execution_count": null,
   "id": "5d90d357",
   "metadata": {},
   "outputs": [],
   "source": []
  },
  {
   "cell_type": "markdown",
   "id": "dd49abcf",
   "metadata": {},
   "source": [
    "# C3-Scipy"
   ]
  },
  {
   "cell_type": "code",
   "execution_count": 4,
   "id": "a7952fa2",
   "metadata": {},
   "outputs": [],
   "source": [
    "import scipy.stats as stats"
   ]
  },
  {
   "cell_type": "markdown",
   "id": "b875b8e1",
   "metadata": {},
   "source": [
    "- You can use the `cdf` method from the [stats.t](https://docs.scipy.org/doc/scipy/reference/generated/scipy.stats.t.html) class to compute the p-value given the degrees of freedom. Don't forget to multiply your result by 2 since this is a two-sided test.\n"
   ]
  },
  {
   "cell_type": "code",
   "execution_count": null,
   "id": "4ca443cf",
   "metadata": {},
   "outputs": [],
   "source": [
    "# Example for t-distribution\n",
    "dof = 10\n",
    "t_statistic = 2.5\n",
    "p_value = 2 * (1 - stats.t.cdf(abs(t_statistic), df=dof))\n",
    "# or for normal\n",
    "z_statistic = 2.5\n",
    "p_value = 2 * (1 - stats.norm.cdf(np.abs(z_statistic)))\n",
    "\n"
   ]
  },
  {
   "cell_type": "markdown",
   "id": "b6c39435",
   "metadata": {},
   "source": [
    "- You can use the `ppf` method from the [stats.norm](https://docs.scipy.org/doc/scipy/reference/generated/scipy.stats.norm.html) class to compute the value of $z$"
   ]
  },
  {
   "cell_type": "code",
   "execution_count": null,
   "id": "39e3f901",
   "metadata": {},
   "outputs": [],
   "source": [
    "alpha = 0.05\n",
    "stats.norm.ppf(1 - alpha / 2)\n",
    "# ppf: Percent point function (inverse of cdf) at q of the given RV."
   ]
  }
 ],
 "metadata": {
  "kernelspec": {
   "display_name": "venv",
   "language": "python",
   "name": "python3"
  },
  "language_info": {
   "codemirror_mode": {
    "name": "ipython",
    "version": 3
   },
   "file_extension": ".py",
   "mimetype": "text/x-python",
   "name": "python",
   "nbconvert_exporter": "python",
   "pygments_lexer": "ipython3",
   "version": "3.11.13"
  }
 },
 "nbformat": 4,
 "nbformat_minor": 5
}
