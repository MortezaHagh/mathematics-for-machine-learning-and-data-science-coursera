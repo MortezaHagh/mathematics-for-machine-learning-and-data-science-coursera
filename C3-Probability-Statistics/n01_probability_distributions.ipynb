{
 "cells": [
  {
   "cell_type": "markdown",
   "id": "09818f05",
   "metadata": {},
   "source": [
    "# Probability Distributions\n",
    "\n",
    "## Sections\n",
    "\n",
    "1. **Generating Data**: Learn how to generate data that follows specific probability distributions.\n",
    "\n",
    "2. **Naive Bayes Classifier (Continuous)**: Implement a Naive Bayes classifier for continuous data generated in Section 1.\n",
    "\n",
    "3. **Real-Life Problem (Spam Detection)**: Enhance the Naive Bayes implementation to address a real-life problem, specifically spam detection.\n"
   ]
  },
  {
   "cell_type": "code",
   "execution_count": null,
   "id": "9d0c4973",
   "metadata": {
    "tags": [
     "graded"
    ]
   },
   "outputs": [],
   "source": [
    "import utils.utils1\n",
    "import numpy as np\n",
    "import pandas as pd\n",
    "import matplotlib.pyplot as plt\n",
    "\n",
    "from scipy.special import erfinv\n",
    "from scipy.stats import uniform, binom, norm\n",
    "from dataclasses import dataclass\n",
    "from sklearn.metrics import accuracy_score\n",
    "import pprint\n",
    "pp = pprint.PrettyPrinter()"
   ]
  },
  {
   "cell_type": "markdown",
   "id": "29c8a7f2",
   "metadata": {},
   "source": [
    "# Section 1: Generating Data from a Specific Distribution\n",
    "\n",
    "A random variable $X$ is a function that represents a random phenomenon, meaning its exact value cannot be determined. However, probabilities can be assigned to a set of possible values it can take. \n",
    "\n",
    "a random variable is associated with a function called the probability density function (pdf), which encodes the probability of the random variable falling within a given range. In other words, if $X$ is a continuous random variable and $f$ is its pdf, then:\n",
    "\n",
    "$$P(a \\leq X \\leq b) = \\text{Area of } f \\text{ between } a \\text{ and } b$$\n",
    "\n",
    "In the discrete case, $P(X = a) = f(a)$. In any case, $P(-\\infty < X < +\\infty) = 1$ because a random variable is assumed to output real numbers.\n",
    "\n",
    "Another function associated with a random variable is the cumulative distribution function (cdf), denoted as $F$. It represents the probability that a random variable $X$ will be less than or equal to $x$, for any $x \\in \\mathbb{R}$:\n",
    "\n",
    "$$F(x) := P(X \\leq x), \\quad \\forall x \\in \\mathbb{R}$$\n",
    "\n",
    "The cdf is a non-decreasing function and approaches $1$ as $x$ approaches infinity because it represents a probability and must yield a value between $0$ and $1$.\n",
    "\n",
    "In the lectures, you learned that if $X$ is a random variable with cdf $F$, then $F(X)$ follows a uniform distribution between $0$ and $1$. In other words, the new random variable $F(X)$ will be uniformly distributed between $0$ and $1$. This opens up the possibility of generating artificial data with any desired distribution, given that we know $F$. The process is as follows:\n",
    "\n",
    "1. Generate a random value $y$ uniformly from the interval $[0, 1]$.\n",
    "2. Compute $F^{-1}(y)$, which is the inverse function of $F$ evaluated at $y$.\n",
    "\n",
    "It can be shown that if $Y$ follows a uniform distribution between $0$ and $1$, then the random variable $F^{-1}(Y)$ has the same distribution as $X$.\n",
    "\n",
    "Therefore, by computing the inverse of $F$, you can generate artificial data from any known distribution! This is an incredibly powerful technique, isn't it?\n",
    "\n",
    "So far in the course, you have encountered three common probability distributions:\n",
    "- Uniform\n",
    "- Binomial\n",
    "- Gaussian\n",
    "\n",
    "In the first part of this assignment, you will code a random generator for each of the above distributions!\n"
   ]
  },
  {
   "cell_type": "markdown",
   "id": "001b9b4a",
   "metadata": {},
   "source": [
    "## Exercise 1: Uniform Generator\n",
    "\n",
    "The natural first step is to create a function capable of generating random data that comes from the uniform distribution. You will not be coding a [pseudo-random number generator](https://en.wikipedia.org/wiki/Pseudorandom_number_generator) (this is outside the scope of this assignment) but instead you will use a predefined function that handles this for you. If you are unsure where you can find such a function take a look at the [numpy.random.uniform](https://numpy.org/doc/stable/reference/random/generated/numpy.random.uniform.html) function."
   ]
  },
  {
   "cell_type": "code",
   "execution_count": 2,
   "id": "33b2dcd2",
   "metadata": {
    "tags": [
     "graded"
    ]
   },
   "outputs": [],
   "source": [
    "def uniform_generator(a, b, num_samples=100):\n",
    "    \"\"\"\n",
    "    Generates an array of uniformly distributed random numbers within the specified range.\n",
    "\n",
    "    Parameters:\n",
    "    - a (float): The lower bound of the range.\n",
    "    - b (float): The upper bound of the range.\n",
    "    - num_samples (int): The number of samples to generate (default: 100).\n",
    "\n",
    "    Returns:\n",
    "    - array (ndarray): An array of random numbers sampled uniformly from the range [a, b).\n",
    "    \"\"\"\n",
    "\n",
    "    np.random.seed(42)\n",
    "    array = np.random.uniform(a, b, num_samples)\n",
    "    return array"
   ]
  },
  {
   "cell_type": "markdown",
   "id": "c86f5e76",
   "metadata": {},
   "source": [
    "## Exercise 2:  Gaussian Generator\n",
    "\n",
    "With your uniform data generator ready you can go ahead and create generators for the other distributions. In order to do this you will need the inverse `CDF` for the distribution you wish to create data for. "
   ]
  },
  {
   "cell_type": "markdown",
   "id": "19d63b3b",
   "metadata": {},
   "source": [
    "### 2.1 Inverse CDF - Gaussian\n",
    "\n",
    "Let's start with a Normal Distribution generator. Usually, closed forms for CDFs are hard to obtain because they involve computing areas, which can be challenging. \n",
    "\n",
    "In the Gaussian distribution, the closed formula uses a function called the Gaussian error function, denoted as $\\text{erf}(x)$. However, you don't need to implement it or its inverse for this assignment. These functions are important in statistics, and there are many libraries available that provide their implementations.\n",
    "\n",
    "For instance, you can use [scipy.special.erf](https://docs.scipy.org/doc/scipy/reference/generated/scipy.special.erf.html) and [scipy.special.erfinv](https://docs.scipy.org/doc/scipy/reference/generated/scipy.special.erfinv.html#scipy.special.erfinv) to compute the erf function and its inverse. Alternatively, you can find an implementation of the erf function in [math.erf](https://docs.python.org/3/library/math.html#math.erf) from the Python math library.\n",
    "\n",
    "If $X \\sim N(\\mu, \\sigma)$, then the CDF $F(x)$ can be expressed as:\n",
    "\n",
    "$$y = F(x) = \\frac{1}{2} \\left[ 1 + \\text{erf}\\left( \\frac{x - \\mu}{\\sigma \\sqrt{2}} \\right) \\right].$$\n",
    "\n",
    "With some simple calculations and denoting ${\\text{erf}}^{-1}$ as the inverse of the $\\text{erf}$ function, it can be shown that:\n",
    "\n",
    "$$x = F^{-1}(y) = \\sigma \\sqrt{2} \\cdot \\text{erf}^{-1}(2y - 1) + \\mu.$$\n"
   ]
  },
  {
   "cell_type": "code",
   "execution_count": 3,
   "id": "b20aaede",
   "metadata": {
    "tags": [
     "graded"
    ]
   },
   "outputs": [],
   "source": [
    "import scipy\n",
    "\n",
    "\n",
    "def inverse_cdf_gaussian(y, mu, sigma):\n",
    "    \"\"\"\n",
    "    Calculates the inverse cumulative distribution function (CDF) of a Gaussian distribution.\n",
    "\n",
    "    Parameters:\n",
    "    - y (float or ndarray): The probability or array of probabilities.\n",
    "    - mu (float): The mean of the Gaussian distribution.\n",
    "    - sigma (float): The standard deviation of the Gaussian distribution.\n",
    "\n",
    "    Returns:\n",
    "    - x (float or ndarray): The corresponding value(s) from the Gaussian distribution that correspond to the given probability/ies.\n",
    "    \"\"\"\n",
    "    x = mu + scipy.special.erfinv(2 * y - 1) * sigma*(2**0.5)\n",
    "    return x"
   ]
  },
  {
   "cell_type": "markdown",
   "id": "55fbc248",
   "metadata": {},
   "source": [
    "### 2.2 Gaussian Generator\n",
    "\n",
    "Now that you have all the necessary information, you can create a generator for data that follows a Gaussian distribution with a specified $\\mu$ and $\\sigma$. Similar to the generator for uniformly distributed data, the `gaussian_generator` function should allow you to specify the number of samples to generate. **Make sure to utilize the functions you have defined earlier in the assignment.**"
   ]
  },
  {
   "cell_type": "code",
   "execution_count": 4,
   "id": "5df743c1",
   "metadata": {
    "tags": [
     "graded"
    ]
   },
   "outputs": [],
   "source": [
    "def gaussian_generator(mu, sigma, num_samples):\n",
    "\n",
    "    # Generate an array with num_samples elements that distribute uniformally between 0 and 1\n",
    "    u = uniform_generator(0, 1, num_samples)\n",
    "\n",
    "    # Use the uniform-distributed sample to generate Gaussian-distributed data\n",
    "    # Hint: You need to sample from the inverse of the CDF of the distribution you are generating\n",
    "    array = inverse_cdf_gaussian(u, mu, sigma)\n",
    "\n",
    "    return array"
   ]
  },
  {
   "cell_type": "code",
   "execution_count": 5,
   "id": "07885432",
   "metadata": {
    "tags": [
     "graded"
    ]
   },
   "outputs": [
    {
     "data": {
      "image/png": "[encoded data removed]",
      "text/plain": [
       "<Figure size 1000x400 with 1 Axes>"
      ]
     },
     "metadata": {},
     "output_type": "display_data"
    }
   ],
   "source": [
    "# Test your function\n",
    "\n",
    "gaussian_0 = gaussian_generator(0, 1, 1000)\n",
    "gaussian_1 = gaussian_generator(5, 3, 1000)\n",
    "gaussian_2 = gaussian_generator(10, 5, 1000)\n",
    "\n",
    "utils1.plot_gaussian_distributions(gaussian_0, gaussian_1, gaussian_2)"
   ]
  },
  {
   "cell_type": "markdown",
   "id": "d78cc376",
   "metadata": {},
   "source": [
    "## Exercise 3: Binomial Generator\n",
    "\n",
    "### 3.1 Inverse CDF - Binomial\n",
    "\n",
    "If $X \\sim \\text{Binomial}(n,p)$, then its PDF is given by:\n",
    "\n",
    "$$P(X = k) = {n \\choose k}p^{k}(1-p)^{n-k}.$$\n",
    "\n",
    "Therefore, if $0 \\leq x \\leq n$, its CDF is given by:\n",
    "\n",
    "$$F(x) = P(X \\leq x) = P(X = 0) + P(X = 1) + \\ldots + P(X = \\lfloor x \\rfloor) = \\sum_{k=0}^{\\lfloor x \\rfloor} {n \\choose k}p^{k}(1-p)^{n-k}.$$\n",
    "\n",
    "Here, $\\lfloor x \\rfloor$ denotes the [floor function](https://en.wikipedia.org/wiki/Floor_and_ceiling_functions), which returns the greatest integer less than or equal to $x$. For example, $\\lfloor 2.9 \\rfloor = 2$ and $\\lfloor 1.2 \\rfloor = 1$. This function is necessary because the domain of $F$ is the entire set of real numbers, but $P(X = k)$ is non-zero only for positive integer values.\n",
    "\n",
    "If $x > n$, then $F(x) = 1$. It is important to note that the expression for $F(x)$ can become complex and messy, and there is no closed-form expression for the inverse function $F^{-1}$ in this case. However, statistical libraries provide implementations of the inverse CDF using [generalized quantile functions](https://en.wikipedia.org/wiki/Cumulative_distribution_function#Inverse_distribution_function_.28quantile_function.29). You can refer to [scipy.stats.binom](https://docs.scipy.org/doc/scipy/reference/generated/scipy.stats.binom.html) for an example of a library that implements these functions. In particular, the `scipy.stats.binom.ppf` function is what you need. Since the `binom` class is already imported, you can use `help(binom)` to explore its parameters and functions. The function you will need is located in the \"Methods\" section: `ppf`.\n"
   ]
  },
  {
   "cell_type": "code",
   "execution_count": 6,
   "id": "1819bfed",
   "metadata": {
    "tags": [
     "graded"
    ]
   },
   "outputs": [],
   "source": [
    "from scipy.stats import binom\n",
    "\n",
    "\n",
    "def inverse_cdf_binomial(y, n, p):\n",
    "    \"\"\"\n",
    "    Calculates the inverse cumulative distribution function (CDF) of a binomial distribution.\n",
    "\n",
    "    Parameters:\n",
    "    - y (float or ndarray): The probability or array of probabilities.\n",
    "    - n (int): The number of trials in the binomial distribution.\n",
    "    - p (float): The probability of success in each trial.\n",
    "\n",
    "    Returns:\n",
    "    - x (float or ndarray): The corresponding value(s) from the binomial distribution that correspond to the given probability/ies.\n",
    "    \"\"\"\n",
    "\n",
    "    x = binom.ppf(y, n, p)\n",
    "\n",
    "    return x"
   ]
  },
  {
   "cell_type": "markdown",
   "id": "6cc766a4",
   "metadata": {},
   "source": [
    "### 3.2 Binomial Generator\n"
   ]
  },
  {
   "cell_type": "code",
   "execution_count": 7,
   "id": "ea27b236",
   "metadata": {
    "tags": [
     "graded"
    ]
   },
   "outputs": [],
   "source": [
    "def binomial_generator(n, p, num_samples):\n",
    "    \"\"\"\n",
    "    Generates an array of binomially distributed random numbers.\n",
    "\n",
    "    Args:\n",
    "        n (int): The number of trials in the binomial distribution.\n",
    "        p (float): The probability of success in each trial.\n",
    "        num_samples (int): The number of samples to generate.\n",
    "\n",
    "    Returns:\n",
    "        array: An array of binomially distributed random numbers.\n",
    "    \"\"\"\n",
    "\n",
    "    # Generate an array with num_samples elements that distribute uniformally between 0 and 1\n",
    "    u = uniform_generator(0, 1, num_samples)\n",
    "\n",
    "    # Use the uniform-distributed sample to generate binomial-distributed data\n",
    "    # Hint: You need to sample from the inverse of the CDF of the distribution you are generating\n",
    "    array = inverse_cdf_binomial(u, n, p)\n",
    "\n",
    "    return array"
   ]
  },
  {
   "cell_type": "code",
   "execution_count": 8,
   "id": "e06e9f1e",
   "metadata": {
    "tags": [
     "graded"
    ]
   },
   "outputs": [
    {
     "data": {
      "image/png": "[encoded data removed]",
      "text/plain": [
       "<Figure size 1000x400 with 1 Axes>"
      ]
     },
     "metadata": {},
     "output_type": "display_data"
    }
   ],
   "source": [
    "# Test your function\n",
    "\n",
    "binomial_0 = binomial_generator(12, 0.4, 1000)\n",
    "binomial_1 = binomial_generator(15, 0.5, 1000)\n",
    "binomial_2 = binomial_generator(25, 0.8, 1000)\n",
    "\n",
    "utils1.plot_binomial_distributions(binomial_0, binomial_1, binomial_2)"
   ]
  },
  {
   "cell_type": "markdown",
   "id": "b86787fc",
   "metadata": {},
   "source": [
    "## Exercise 4: PDF for Distributions\n",
    "\n",
    "To calculate the probabilities of predicting each class using Naive Bayes, you need to compute the prior probabilities. Although you already know the prior for each feature, you still need a way to compute the probability. In the next exercise, you are required to write a function that takes a value `x` and the relevant parameters and returns the value of the Probability Density Function (`PDF`) for each distribution.\n",
    "\n",
    "You can choose to implement this function on your own or utilize the implementation from the [scipy.stats](https://docs.scipy.org/doc/scipy/reference/stats.html) module."
   ]
  },
  {
   "cell_type": "markdown",
   "id": "30569fed",
   "metadata": {},
   "source": [
    "### 4.1 Uniform PDF\n",
    "\n",
    "If $X \\sim \\text{Uniform}(a,b)$, then the PDF for $X$ is given by:\n",
    "\n",
    "\n",
    "$$f(x;a,b) = \n",
    "\\begin{cases}\n",
    "\\frac{1}{b-a}, \\quad \\text{if } x \\in [a,b]. \\\\\n",
    "0, \\quad \\text{otherwise.}\n",
    "\\end{cases}\n",
    "$$"
   ]
  },
  {
   "cell_type": "code",
   "execution_count": 9,
   "id": "4930247d",
   "metadata": {
    "tags": [
     "graded"
    ]
   },
   "outputs": [],
   "source": [
    "def pdf_uniform(x, a, b):\n",
    "    \"\"\"\n",
    "    Calculates the probability density function (PDF) for a uniform distribution between 'a' and 'b' at a given point 'x'.\n",
    "\n",
    "    Args:\n",
    "        x (float): The value at which the PDF is evaluated.\n",
    "        a (float): The lower bound of the uniform distribution.\n",
    "        b (float): The upper bound of the uniform distribution.\n",
    "\n",
    "    Returns:\n",
    "        float: The PDF value at the given point 'x'. Returns 0 if 'x' is outside the range [a, b].\n",
    "    \"\"\"\n",
    "    pdf = (0) if (x < a or x > b) else 1/(b-a)\n",
    "\n",
    "    return pdf"
   ]
  },
  {
   "cell_type": "markdown",
   "id": "bd0bc5b7",
   "metadata": {},
   "source": [
    "### 4.2 Gaussian PDF\n",
    "\n",
    "You will need to implement the PDF for the Gaussian Distribution. The PDF for $X$ if $X \\sim \\text{Normal}(\\mu,\\sigma)$ is given by:\n",
    "\n",
    "$$f(x;\\mu,\\sigma) = \\frac{1}{\\sigma \\sqrt{2 \\pi}} e^{-\\frac{1}{2}\\left(\\frac{x - \\mu}{\\sigma}\\right)^2}$$ "
   ]
  },
  {
   "cell_type": "code",
   "execution_count": 10,
   "id": "2be18fe6",
   "metadata": {
    "tags": [
     "graded"
    ]
   },
   "outputs": [],
   "source": [
    "def pdf_gaussian(x, mu, sigma):\n",
    "    \"\"\"\n",
    "    Calculate the probability density function (PDF) of a Gaussian distribution at a given value.\n",
    "\n",
    "    Args:\n",
    "        x (float or array-like): The value(s) at which to evaluate the PDF.\n",
    "        mu (float): The mean of the Gaussian distribution.\n",
    "        sigma (float): The standard deviation of the Gaussian distribution.\n",
    "\n",
    "    Returns:\n",
    "        float or ndarray: The PDF value(s) at the given point(s) x.\n",
    "    \"\"\"\n",
    "\n",
    "    coefficient = 1.0 / (sigma * np.sqrt(2 * np.pi))\n",
    "    exponent = -0.5 * ((x - mu) / sigma) ** 2\n",
    "    pdf = coefficient * np.exp(exponent)\n",
    "\n",
    "    return pdf"
   ]
  },
  {
   "cell_type": "markdown",
   "id": "b2f27cce",
   "metadata": {},
   "source": [
    "### 4.3 Binomial Probability Mass Function (PMF)\n",
    "\n",
    "For the binomial distribution, since it is a discrete distribution, we will be using the Probability Mass Function (PMF) instead of the Probability Density Function (PDF). However, for consistency, the graded function should still be named `pdf_binomial`.\n",
    "\n",
    "Remember that if we have a random variable X following a binomial distribution with parameters n and p, its PMF is given by:\n",
    "$$f(k; n, p) = {n \\choose k}  p^k  (1-p)^{n-k}$$\n",
    "\n",
    "Here, you can calculate the combination ${n \\choose k}$ using either the definition: ${n \\choose k} = \\frac{n!}{k!(n-k)!}$, utilizing the `math.factorial` function, or you can use the `scipy.special.comb` function to obtain the combination. You can also refer to the `binom` documentation to find any other relevant functions that may assist you."
   ]
  },
  {
   "cell_type": "code",
   "execution_count": 11,
   "id": "64167eef",
   "metadata": {
    "tags": [
     "graded"
    ]
   },
   "outputs": [],
   "source": [
    "# from scipy.stats import uniform, binom, norm\n",
    "\n",
    "def pdf_binomial(x, n, p):\n",
    "    \"\"\"\n",
    "    Calculate the probability mass function (PMF) of a binomial distribution at a specific value.\n",
    "\n",
    "    Args:\n",
    "        x (int): The value at which to evaluate the PMF.\n",
    "        n (int): The number of trials in the binomial distribution.\n",
    "        p (float): The probability of success for each trial.\n",
    "\n",
    "    Returns:\n",
    "        float: The probability mass function (PMF) of the binomial distribution at the specified value.\n",
    "    \"\"\"\n",
    "\n",
    "    pdf = binom.pmf(x, n, p)\n",
    "\n",
    "    return pdf"
   ]
  }
 ],
 "metadata": {
  "grader_version": "1",
  "kernelspec": {
   "display_name": "venv",
   "language": "python",
   "name": "python3"
  },
  "language_info": {
   "codemirror_mode": {
    "name": "ipython",
    "version": 3
   },
   "file_extension": ".py",
   "mimetype": "text/x-python",
   "name": "python",
   "nbconvert_exporter": "python",
   "pygments_lexer": "ipython3",
   "version": "3.11.13"
  }
 },
 "nbformat": 4,
 "nbformat_minor": 5
}
