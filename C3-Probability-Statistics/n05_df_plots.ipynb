{
 "cells": [
  {
   "cell_type": "markdown",
   "metadata": {
    "id": "NbHgrZs86Y6e"
   },
   "source": [
    "# Exploratory Data Analysis - Data Visualization and Summary Statistics\n",
    "\n",
    "Welcome to the third notebook of the exploratory data analysis (EDA) series. \n",
    "\n",
    "For this notebook you will use the data on ridesharing in the year 2022 in the city of Chicago\n",
    "\n",
    "### Learning Objectives:\n",
    "In this notebook you will use the following concepts from the course in a practical setting:\n",
    " - Probability\n",
    " - Descriptive statistics (mean, median, standard deviation and quartiles)\n",
    " - Box plots\n",
    " - Joint distribution\n",
    " - Marginal distribution\n",
    " - Correlation\n"
   ]
  },
  {
   "cell_type": "markdown",
   "metadata": {
    "id": "BUmdnS4e6Y6g"
   },
   "source": [
    "# 1. Import the Python Libraries\n",
    "\n",
    "As usual, the first thing you need to do is import the libraries that you will use in this notebook."
   ]
  },
  {
   "cell_type": "code",
   "execution_count": 1,
   "metadata": {},
   "outputs": [],
   "source": [
    "import pandas as pd\n",
    "import numpy as np\n",
    "import matplotlib.pyplot as plt\n",
    "\n",
    "# Library for displaying a map\n",
    "import folium\n",
    "from folium.plugins import FastMarkerCluster"
   ]
  },
  {
   "cell_type": "markdown",
   "metadata": {
    "id": "CmlrVEnd6Y6h"
   },
   "source": [
    "# 2. Load the Dataset\n",
    "\n",
    "The next step is to open the dataset. This is the reduced and cleaned-up version that you used in the previous notebook."
   ]
  },
  {
   "cell_type": "code",
   "execution_count": 2,
   "metadata": {
    "id": "OD7tmLwb6Y6j"
   },
   "outputs": [
    {
     "data": {
      "text/html": [
       "<div>\n",
       "<style scoped>\n",
       "    .dataframe tbody tr th:only-of-type {\n",
       "        vertical-align: middle;\n",
       "    }\n",
       "\n",
       "    .dataframe tbody tr th {\n",
       "        vertical-align: top;\n",
       "    }\n",
       "\n",
       "    .dataframe thead th {\n",
       "        text-align: right;\n",
       "    }\n",
       "</style>\n",
       "<table border=\"1\" class=\"dataframe\">\n",
       "  <thead>\n",
       "    <tr style=\"text-align: right;\">\n",
       "      <th></th>\n",
       "      <th>overall_rank</th>\n",
       "      <th>country_or_region</th>\n",
       "      <th>score</th>\n",
       "      <th>gdp_per_capita</th>\n",
       "      <th>social_support</th>\n",
       "      <th>healthy_life_expectancy</th>\n",
       "      <th>freedom_to_make_life_choices</th>\n",
       "      <th>generosity</th>\n",
       "      <th>perceptions_of_corruption</th>\n",
       "    </tr>\n",
       "  </thead>\n",
       "  <tbody>\n",
       "    <tr>\n",
       "      <th>0</th>\n",
       "      <td>1</td>\n",
       "      <td>Finland</td>\n",
       "      <td>7.769</td>\n",
       "      <td>1.340</td>\n",
       "      <td>1.587</td>\n",
       "      <td>0.986</td>\n",
       "      <td>0.596</td>\n",
       "      <td>0.153</td>\n",
       "      <td>0.393</td>\n",
       "    </tr>\n",
       "    <tr>\n",
       "      <th>1</th>\n",
       "      <td>2</td>\n",
       "      <td>Denmark</td>\n",
       "      <td>7.600</td>\n",
       "      <td>1.383</td>\n",
       "      <td>1.573</td>\n",
       "      <td>0.996</td>\n",
       "      <td>0.592</td>\n",
       "      <td>0.252</td>\n",
       "      <td>0.410</td>\n",
       "    </tr>\n",
       "    <tr>\n",
       "      <th>2</th>\n",
       "      <td>3</td>\n",
       "      <td>Norway</td>\n",
       "      <td>7.554</td>\n",
       "      <td>1.488</td>\n",
       "      <td>1.582</td>\n",
       "      <td>1.028</td>\n",
       "      <td>0.603</td>\n",
       "      <td>0.271</td>\n",
       "      <td>0.341</td>\n",
       "    </tr>\n",
       "    <tr>\n",
       "      <th>3</th>\n",
       "      <td>4</td>\n",
       "      <td>Iceland</td>\n",
       "      <td>7.494</td>\n",
       "      <td>1.380</td>\n",
       "      <td>1.624</td>\n",
       "      <td>1.026</td>\n",
       "      <td>0.591</td>\n",
       "      <td>0.354</td>\n",
       "      <td>0.118</td>\n",
       "    </tr>\n",
       "    <tr>\n",
       "      <th>4</th>\n",
       "      <td>5</td>\n",
       "      <td>Netherlands</td>\n",
       "      <td>7.488</td>\n",
       "      <td>1.396</td>\n",
       "      <td>1.522</td>\n",
       "      <td>0.999</td>\n",
       "      <td>0.557</td>\n",
       "      <td>0.322</td>\n",
       "      <td>0.298</td>\n",
       "    </tr>\n",
       "  </tbody>\n",
       "</table>\n",
       "</div>"
      ],
      "text/plain": [
       "   overall_rank country_or_region  score  gdp_per_capita  social_support  \\\n",
       "0             1           Finland  7.769           1.340           1.587   \n",
       "1             2           Denmark  7.600           1.383           1.573   \n",
       "2             3            Norway  7.554           1.488           1.582   \n",
       "3             4           Iceland  7.494           1.380           1.624   \n",
       "4             5       Netherlands  7.488           1.396           1.522   \n",
       "\n",
       "   healthy_life_expectancy  freedom_to_make_life_choices  generosity  \\\n",
       "0                    0.986                         0.596       0.153   \n",
       "1                    0.996                         0.592       0.252   \n",
       "2                    1.028                         0.603       0.271   \n",
       "3                    1.026                         0.591       0.354   \n",
       "4                    0.999                         0.557       0.322   \n",
       "\n",
       "   perceptions_of_corruption  \n",
       "0                      0.393  \n",
       "1                      0.410  \n",
       "2                      0.341  \n",
       "3                      0.118  \n",
       "4                      0.298  "
      ]
     },
     "execution_count": 2,
     "metadata": {},
     "output_type": "execute_result"
    }
   ],
   "source": [
    "# Open the dataset\n",
    "# Note the parse_dates parameter, which automatically saves the given columns as dates.\n",
    "df = pd.read_csv(\"data/world_happiness_2019.csv\")\n",
    "columns_to_rename = {i: \"_\".join(i.split(\" \")).lower() for i in df.columns}\n",
    "df.rename(columns=columns_to_rename, inplace=True)\n",
    "\n",
    "# Show the first few lines of the dataset\n",
    "df.head()"
   ]
  },
  {
   "cell_type": "markdown",
   "metadata": {
    "id": "j1dm9RddaOH5"
   },
   "source": [
    "# 3. Investigate the Summary Statistics\n",
    "\n",
    "In the previous notebook you have already plotted some histograms of individual columns to see how the data is distributed. Now it's time to approach this more systematically. Let's look at the numeric values first. Pandas has a very useful function `.describe()`, which returns a new dataframe with summary statistics for each of the columns.  "
   ]
  },
  {
   "cell_type": "code",
   "execution_count": 3,
   "metadata": {
    "id": "_oco5Fgh6Y61"
   },
   "outputs": [
    {
     "data": {
      "text/html": [
       "<div>\n",
       "<style scoped>\n",
       "    .dataframe tbody tr th:only-of-type {\n",
       "        vertical-align: middle;\n",
       "    }\n",
       "\n",
       "    .dataframe tbody tr th {\n",
       "        vertical-align: top;\n",
       "    }\n",
       "\n",
       "    .dataframe thead th {\n",
       "        text-align: right;\n",
       "    }\n",
       "</style>\n",
       "<table border=\"1\" class=\"dataframe\">\n",
       "  <thead>\n",
       "    <tr style=\"text-align: right;\">\n",
       "      <th></th>\n",
       "      <th>overall_rank</th>\n",
       "      <th>score</th>\n",
       "      <th>gdp_per_capita</th>\n",
       "      <th>social_support</th>\n",
       "      <th>healthy_life_expectancy</th>\n",
       "      <th>freedom_to_make_life_choices</th>\n",
       "      <th>generosity</th>\n",
       "      <th>perceptions_of_corruption</th>\n",
       "    </tr>\n",
       "  </thead>\n",
       "  <tbody>\n",
       "    <tr>\n",
       "      <th>count</th>\n",
       "      <td>156.000000</td>\n",
       "      <td>156.000000</td>\n",
       "      <td>156.000000</td>\n",
       "      <td>156.000000</td>\n",
       "      <td>156.000000</td>\n",
       "      <td>156.000000</td>\n",
       "      <td>156.000000</td>\n",
       "      <td>156.000000</td>\n",
       "    </tr>\n",
       "    <tr>\n",
       "      <th>mean</th>\n",
       "      <td>78.500000</td>\n",
       "      <td>5.407096</td>\n",
       "      <td>0.905147</td>\n",
       "      <td>1.208814</td>\n",
       "      <td>0.725244</td>\n",
       "      <td>0.392571</td>\n",
       "      <td>0.184846</td>\n",
       "      <td>0.110603</td>\n",
       "    </tr>\n",
       "    <tr>\n",
       "      <th>std</th>\n",
       "      <td>45.177428</td>\n",
       "      <td>1.113120</td>\n",
       "      <td>0.398389</td>\n",
       "      <td>0.299191</td>\n",
       "      <td>0.242124</td>\n",
       "      <td>0.143289</td>\n",
       "      <td>0.095254</td>\n",
       "      <td>0.094538</td>\n",
       "    </tr>\n",
       "    <tr>\n",
       "      <th>min</th>\n",
       "      <td>1.000000</td>\n",
       "      <td>2.853000</td>\n",
       "      <td>0.000000</td>\n",
       "      <td>0.000000</td>\n",
       "      <td>0.000000</td>\n",
       "      <td>0.000000</td>\n",
       "      <td>0.000000</td>\n",
       "      <td>0.000000</td>\n",
       "    </tr>\n",
       "    <tr>\n",
       "      <th>25%</th>\n",
       "      <td>39.750000</td>\n",
       "      <td>4.544500</td>\n",
       "      <td>0.602750</td>\n",
       "      <td>1.055750</td>\n",
       "      <td>0.547750</td>\n",
       "      <td>0.308000</td>\n",
       "      <td>0.108750</td>\n",
       "      <td>0.047000</td>\n",
       "    </tr>\n",
       "    <tr>\n",
       "      <th>50%</th>\n",
       "      <td>78.500000</td>\n",
       "      <td>5.379500</td>\n",
       "      <td>0.960000</td>\n",
       "      <td>1.271500</td>\n",
       "      <td>0.789000</td>\n",
       "      <td>0.417000</td>\n",
       "      <td>0.177500</td>\n",
       "      <td>0.085500</td>\n",
       "    </tr>\n",
       "    <tr>\n",
       "      <th>75%</th>\n",
       "      <td>117.250000</td>\n",
       "      <td>6.184500</td>\n",
       "      <td>1.232500</td>\n",
       "      <td>1.452500</td>\n",
       "      <td>0.881750</td>\n",
       "      <td>0.507250</td>\n",
       "      <td>0.248250</td>\n",
       "      <td>0.141250</td>\n",
       "    </tr>\n",
       "    <tr>\n",
       "      <th>max</th>\n",
       "      <td>156.000000</td>\n",
       "      <td>7.769000</td>\n",
       "      <td>1.684000</td>\n",
       "      <td>1.624000</td>\n",
       "      <td>1.141000</td>\n",
       "      <td>0.631000</td>\n",
       "      <td>0.566000</td>\n",
       "      <td>0.453000</td>\n",
       "    </tr>\n",
       "  </tbody>\n",
       "</table>\n",
       "</div>"
      ],
      "text/plain": [
       "       overall_rank       score  gdp_per_capita  social_support  \\\n",
       "count    156.000000  156.000000      156.000000      156.000000   \n",
       "mean      78.500000    5.407096        0.905147        1.208814   \n",
       "std       45.177428    1.113120        0.398389        0.299191   \n",
       "min        1.000000    2.853000        0.000000        0.000000   \n",
       "25%       39.750000    4.544500        0.602750        1.055750   \n",
       "50%       78.500000    5.379500        0.960000        1.271500   \n",
       "75%      117.250000    6.184500        1.232500        1.452500   \n",
       "max      156.000000    7.769000        1.684000        1.624000   \n",
       "\n",
       "       healthy_life_expectancy  freedom_to_make_life_choices  generosity  \\\n",
       "count               156.000000                    156.000000  156.000000   \n",
       "mean                  0.725244                      0.392571    0.184846   \n",
       "std                   0.242124                      0.143289    0.095254   \n",
       "min                   0.000000                      0.000000    0.000000   \n",
       "25%                   0.547750                      0.308000    0.108750   \n",
       "50%                   0.789000                      0.417000    0.177500   \n",
       "75%                   0.881750                      0.507250    0.248250   \n",
       "max                   1.141000                      0.631000    0.566000   \n",
       "\n",
       "       perceptions_of_corruption  \n",
       "count                 156.000000  \n",
       "mean                    0.110603  \n",
       "std                     0.094538  \n",
       "min                     0.000000  \n",
       "25%                     0.047000  \n",
       "50%                     0.085500  \n",
       "75%                     0.141250  \n",
       "max                     0.453000  "
      ]
     },
     "execution_count": 3,
     "metadata": {},
     "output_type": "execute_result"
    }
   ],
   "source": [
    "# Calculate and display the summary statistics\n",
    "df.describe()"
   ]
  },
  {
   "cell_type": "code",
   "execution_count": 4,
   "metadata": {},
   "outputs": [
    {
     "data": {
      "text/html": [
       "<div>\n",
       "<style scoped>\n",
       "    .dataframe tbody tr th:only-of-type {\n",
       "        vertical-align: middle;\n",
       "    }\n",
       "\n",
       "    .dataframe tbody tr th {\n",
       "        vertical-align: top;\n",
       "    }\n",
       "\n",
       "    .dataframe thead th {\n",
       "        text-align: right;\n",
       "    }\n",
       "</style>\n",
       "<table border=\"1\" class=\"dataframe\">\n",
       "  <thead>\n",
       "    <tr style=\"text-align: right;\">\n",
       "      <th></th>\n",
       "      <th>overall_rank</th>\n",
       "      <th>country_or_region</th>\n",
       "      <th>score</th>\n",
       "      <th>gdp_per_capita</th>\n",
       "      <th>social_support</th>\n",
       "      <th>healthy_life_expectancy</th>\n",
       "      <th>freedom_to_make_life_choices</th>\n",
       "      <th>generosity</th>\n",
       "      <th>perceptions_of_corruption</th>\n",
       "      <th>weekday</th>\n",
       "    </tr>\n",
       "  </thead>\n",
       "  <tbody>\n",
       "    <tr>\n",
       "      <th>0</th>\n",
       "      <td>1</td>\n",
       "      <td>Finland</td>\n",
       "      <td>7.769</td>\n",
       "      <td>1.340</td>\n",
       "      <td>1.587</td>\n",
       "      <td>0.986</td>\n",
       "      <td>0.596</td>\n",
       "      <td>0.153</td>\n",
       "      <td>0.393</td>\n",
       "      <td>4</td>\n",
       "    </tr>\n",
       "    <tr>\n",
       "      <th>1</th>\n",
       "      <td>2</td>\n",
       "      <td>Denmark</td>\n",
       "      <td>7.600</td>\n",
       "      <td>1.383</td>\n",
       "      <td>1.573</td>\n",
       "      <td>0.996</td>\n",
       "      <td>0.592</td>\n",
       "      <td>0.252</td>\n",
       "      <td>0.410</td>\n",
       "      <td>5</td>\n",
       "    </tr>\n",
       "    <tr>\n",
       "      <th>2</th>\n",
       "      <td>3</td>\n",
       "      <td>Norway</td>\n",
       "      <td>7.554</td>\n",
       "      <td>1.488</td>\n",
       "      <td>1.582</td>\n",
       "      <td>1.028</td>\n",
       "      <td>0.603</td>\n",
       "      <td>0.271</td>\n",
       "      <td>0.341</td>\n",
       "      <td>0</td>\n",
       "    </tr>\n",
       "    <tr>\n",
       "      <th>3</th>\n",
       "      <td>4</td>\n",
       "      <td>Iceland</td>\n",
       "      <td>7.494</td>\n",
       "      <td>1.380</td>\n",
       "      <td>1.624</td>\n",
       "      <td>1.026</td>\n",
       "      <td>0.591</td>\n",
       "      <td>0.354</td>\n",
       "      <td>0.118</td>\n",
       "      <td>3</td>\n",
       "    </tr>\n",
       "    <tr>\n",
       "      <th>4</th>\n",
       "      <td>5</td>\n",
       "      <td>Netherlands</td>\n",
       "      <td>7.488</td>\n",
       "      <td>1.396</td>\n",
       "      <td>1.522</td>\n",
       "      <td>0.999</td>\n",
       "      <td>0.557</td>\n",
       "      <td>0.322</td>\n",
       "      <td>0.298</td>\n",
       "      <td>3</td>\n",
       "    </tr>\n",
       "  </tbody>\n",
       "</table>\n",
       "</div>"
      ],
      "text/plain": [
       "   overall_rank country_or_region  score  gdp_per_capita  social_support  \\\n",
       "0             1           Finland  7.769           1.340           1.587   \n",
       "1             2           Denmark  7.600           1.383           1.573   \n",
       "2             3            Norway  7.554           1.488           1.582   \n",
       "3             4           Iceland  7.494           1.380           1.624   \n",
       "4             5       Netherlands  7.488           1.396           1.522   \n",
       "\n",
       "   healthy_life_expectancy  freedom_to_make_life_choices  generosity  \\\n",
       "0                    0.986                         0.596       0.153   \n",
       "1                    0.996                         0.592       0.252   \n",
       "2                    1.028                         0.603       0.271   \n",
       "3                    1.026                         0.591       0.354   \n",
       "4                    0.999                         0.557       0.322   \n",
       "\n",
       "   perceptions_of_corruption  weekday  \n",
       "0                      0.393        4  \n",
       "1                      0.410        5  \n",
       "2                      0.341        0  \n",
       "3                      0.118        3  \n",
       "4                      0.298        3  "
      ]
     },
     "execution_count": 4,
     "metadata": {},
     "output_type": "execute_result"
    }
   ],
   "source": [
    "# add a column with a random integer between 0 and 6, representing the day of the week\n",
    "np.random.seed(0)\n",
    "df[\"weekday\"] = np.random.randint(0, 7, df.shape[0])\n",
    "df.head()"
   ]
  },
  {
   "cell_type": "markdown",
   "metadata": {
    "id": "5nMgnk7vb7Sh"
   },
   "source": [
    "1. Check the minimum and maximum value for each column. What are their values and how far apart are they? For example: What is the shortest and longest trip that was taken and what is the difference between them?\n",
    "2. What is mean value of each column? For example: What is the mean trip length? Is it closer to the minimum or maximum value?\n",
    "3. What is the standard deviation of each column? For example: how much do the trip lengths vary?\n",
    "4. Compare the quartiles and the mean. Is the mean above or below the median? "
   ]
  },
  {
   "cell_type": "markdown",
   "metadata": {
    "id": "cp92o4D66Y7O"
   },
   "source": [
    "## 3.1 Visualize the Summary Statistics Using Boxplots\n",
    "\n",
    "A great way to understand your data is to visualize it! A commonly used tool to display summary statistics is a boxplot. Fortunately, it is already integrated to `Pandas`, and you can simply draw it by using `DataFrame.boxplot()`. Remember that the box-plot involves infromation about all the quartiles and the maximum and minumum values of the variable, and it looks something like this\n",
    "\n",
    "![](./images/box-plot-screenshot.png)\n"
   ]
  },
  {
   "cell_type": "code",
   "execution_count": 5,
   "metadata": {
    "id": "gWWzoUy_lPSu"
   },
   "outputs": [
    {
     "data": {
      "text/plain": [
       "<Axes: >"
      ]
     },
     "execution_count": 5,
     "metadata": {},
     "output_type": "execute_result"
    },
    {
     "data": {
      "image/png": "[encoded data removed]",
      "text/plain": [
       "<Figure size 640x480 with 1 Axes>"
      ]
     },
     "metadata": {},
     "output_type": "display_data"
    }
   ],
   "source": [
    "# Select the column which you want to plot. Change this for a different column name,\n",
    "# if you are interested in plotting other columns\n",
    "column_to_plot = 'perceptions_of_corruption'\n",
    "\n",
    "# Display the boxplot\n",
    "plt.figure()\n",
    "df.boxplot(column_to_plot)"
   ]
  },
  {
   "cell_type": "markdown",
   "metadata": {
    "id": "gqGiBrgln9vE"
   },
   "source": [
    "The blue box shows the interquartile range (IQR), and the horizontal blue lines in the box show the Q1, Q2 (median), and Q3 quartiles. You can see these three numbers in the dataframe above (25%, 50% and 75%). Check whether they align with the plot. The horizontal black lines outside the box show +/- 1.5 times IQR, which is the default range used to identify outliers. The individual datapoints plotted outside the lines are the outliers.\n",
    "\n",
    "In the case of `fare` you can see a lot of outlier points, can you figure out why? Remember the distribution of this variable"
   ]
  },
  {
   "cell_type": "code",
   "execution_count": 6,
   "metadata": {},
   "outputs": [
    {
     "data": {
      "text/plain": [
       "array([[<Axes: title={'center': 'perceptions_of_corruption'}>]],\n",
       "      dtype=object)"
      ]
     },
     "execution_count": 6,
     "metadata": {},
     "output_type": "execute_result"
    },
    {
     "data": {
      "image/png": "[encoded data removed]",
      "text/plain": [
       "<Figure size 640x480 with 1 Axes>"
      ]
     },
     "metadata": {},
     "output_type": "display_data"
    }
   ],
   "source": [
    "df.hist(column_to_plot, density=True)"
   ]
  },
  {
   "cell_type": "markdown",
   "metadata": {
    "id": "gqGiBrgln9vE"
   },
   "source": [
    "As you can see, this distribution is really heavy for smaller values, and has a really long tail, which is the values you are seeing as outliers.\n",
    "\n",
    "## 3.2 Visualize the Data on different weekdays\n",
    "\n",
    "If you want to split the data into subsets (for example for given days of the week) and plot a boxplot for each, you can easily do that using the parameter `by`. You just need to set it to the column name you want to use to split the data. Suppose you want to analize the `tip` variable by day of the week. Intuitively, what you are doing is creting classes according to the different days in `weekday`, and then analyzing the data for each of this classes. This way what you are actually doing is exploring the conditional distributions of a variable. In this case, you are looking at the tip given that it's a Monday, the tip given that it's a Tuesday, and so on."
   ]
  },
  {
   "cell_type": "code",
   "execution_count": 7,
   "metadata": {},
   "outputs": [
    {
     "data": {
      "text/plain": [
       "<Axes: title={'center': 'gdp_per_capita'}, xlabel='weekday'>"
      ]
     },
     "execution_count": 7,
     "metadata": {},
     "output_type": "execute_result"
    },
    {
     "data": {
      "image/png": "[encoded data removed]",
      "text/plain": [
       "<Figure size 640x480 with 1 Axes>"
      ]
     },
     "metadata": {},
     "output_type": "display_data"
    }
   ],
   "source": [
    "df.boxplot(column='gdp_per_capita', by='weekday')\n",
    "\n",
    "# Limit the plot in y direction. Comment this line of code to see full data\n",
    "# plt.ylim(-2, 52)"
   ]
  },
  {
   "cell_type": "markdown",
   "metadata": {},
   "source": [
    "Another, more obvious, hint is in the summary statistics. Run the cell below to display them again, but this time you will do it just for the `tip` column, grouped by `weekday`."
   ]
  },
  {
   "cell_type": "code",
   "execution_count": 8,
   "metadata": {},
   "outputs": [
    {
     "data": {
      "text/html": [
       "<div>\n",
       "<style scoped>\n",
       "    .dataframe tbody tr th:only-of-type {\n",
       "        vertical-align: middle;\n",
       "    }\n",
       "\n",
       "    .dataframe tbody tr th {\n",
       "        vertical-align: top;\n",
       "    }\n",
       "\n",
       "    .dataframe thead th {\n",
       "        text-align: right;\n",
       "    }\n",
       "</style>\n",
       "<table border=\"1\" class=\"dataframe\">\n",
       "  <thead>\n",
       "    <tr style=\"text-align: right;\">\n",
       "      <th></th>\n",
       "      <th>count</th>\n",
       "      <th>mean</th>\n",
       "      <th>std</th>\n",
       "      <th>min</th>\n",
       "      <th>25%</th>\n",
       "      <th>50%</th>\n",
       "      <th>75%</th>\n",
       "      <th>max</th>\n",
       "    </tr>\n",
       "    <tr>\n",
       "      <th>weekday</th>\n",
       "      <th></th>\n",
       "      <th></th>\n",
       "      <th></th>\n",
       "      <th></th>\n",
       "      <th></th>\n",
       "      <th></th>\n",
       "      <th></th>\n",
       "      <th></th>\n",
       "    </tr>\n",
       "  </thead>\n",
       "  <tbody>\n",
       "    <tr>\n",
       "      <th>0</th>\n",
       "      <td>23.0</td>\n",
       "      <td>5.656348</td>\n",
       "      <td>1.107170</td>\n",
       "      <td>2.853</td>\n",
       "      <td>4.74600</td>\n",
       "      <td>5.8880</td>\n",
       "      <td>6.33350</td>\n",
       "      <td>7.554</td>\n",
       "    </tr>\n",
       "    <tr>\n",
       "      <th>1</th>\n",
       "      <td>24.0</td>\n",
       "      <td>5.456958</td>\n",
       "      <td>1.090953</td>\n",
       "      <td>3.380</td>\n",
       "      <td>4.68725</td>\n",
       "      <td>5.5660</td>\n",
       "      <td>6.13825</td>\n",
       "      <td>7.343</td>\n",
       "    </tr>\n",
       "    <tr>\n",
       "      <th>2</th>\n",
       "      <td>24.0</td>\n",
       "      <td>4.973625</td>\n",
       "      <td>1.067618</td>\n",
       "      <td>3.231</td>\n",
       "      <td>4.35300</td>\n",
       "      <td>4.5675</td>\n",
       "      <td>5.71300</td>\n",
       "      <td>7.246</td>\n",
       "    </tr>\n",
       "    <tr>\n",
       "      <th>3</th>\n",
       "      <td>29.0</td>\n",
       "      <td>5.414621</td>\n",
       "      <td>1.219212</td>\n",
       "      <td>3.083</td>\n",
       "      <td>4.36600</td>\n",
       "      <td>5.3730</td>\n",
       "      <td>6.19800</td>\n",
       "      <td>7.494</td>\n",
       "    </tr>\n",
       "    <tr>\n",
       "      <th>4</th>\n",
       "      <td>21.0</td>\n",
       "      <td>5.514857</td>\n",
       "      <td>1.043226</td>\n",
       "      <td>3.334</td>\n",
       "      <td>5.08200</td>\n",
       "      <td>5.2470</td>\n",
       "      <td>5.89500</td>\n",
       "      <td>7.769</td>\n",
       "    </tr>\n",
       "    <tr>\n",
       "      <th>5</th>\n",
       "      <td>17.0</td>\n",
       "      <td>5.588118</td>\n",
       "      <td>1.040031</td>\n",
       "      <td>4.456</td>\n",
       "      <td>4.71900</td>\n",
       "      <td>5.2850</td>\n",
       "      <td>6.32100</td>\n",
       "      <td>7.600</td>\n",
       "    </tr>\n",
       "    <tr>\n",
       "      <th>6</th>\n",
       "      <td>18.0</td>\n",
       "      <td>5.291278</td>\n",
       "      <td>1.182125</td>\n",
       "      <td>3.203</td>\n",
       "      <td>4.30875</td>\n",
       "      <td>5.3740</td>\n",
       "      <td>6.11700</td>\n",
       "      <td>7.167</td>\n",
       "    </tr>\n",
       "  </tbody>\n",
       "</table>\n",
       "</div>"
      ],
      "text/plain": [
       "         count      mean       std    min      25%     50%      75%    max\n",
       "weekday                                                                   \n",
       "0         23.0  5.656348  1.107170  2.853  4.74600  5.8880  6.33350  7.554\n",
       "1         24.0  5.456958  1.090953  3.380  4.68725  5.5660  6.13825  7.343\n",
       "2         24.0  4.973625  1.067618  3.231  4.35300  4.5675  5.71300  7.246\n",
       "3         29.0  5.414621  1.219212  3.083  4.36600  5.3730  6.19800  7.494\n",
       "4         21.0  5.514857  1.043226  3.334  5.08200  5.2470  5.89500  7.769\n",
       "5         17.0  5.588118  1.040031  4.456  4.71900  5.2850  6.32100  7.600\n",
       "6         18.0  5.291278  1.182125  3.203  4.30875  5.3740  6.11700  7.167"
      ]
     },
     "execution_count": 8,
     "metadata": {},
     "output_type": "execute_result"
    }
   ],
   "source": [
    "# Group the data by the day of the week, select the score column and calculate the descriptive statistics.\n",
    "df.groupby('weekday')['score'].describe()"
   ]
  },
  {
   "cell_type": "code",
   "execution_count": 9,
   "metadata": {},
   "outputs": [
    {
     "name": "stdout",
     "output_type": "stream",
     "text": [
      "type of gr: <class 'pandas.core.groupby.generic.DataFrameGroupBy'>\n",
      "ngroups: 7\n",
      "size: \n",
      " weekday\n",
      "0    23\n",
      "1    24\n",
      "2    24\n",
      "3    29\n",
      "4    21\n",
      "5    17\n",
      "6    18\n",
      "dtype: int64\n"
     ]
    },
    {
     "data": {
      "text/plain": [
       "<pandas.core.groupby.generic.DataFrameGroupBy object at 0x7f68a8193cd0>"
      ]
     },
     "metadata": {},
     "output_type": "display_data"
    },
    {
     "name": "stdout",
     "output_type": "stream",
     "text": [
      " \n",
      "\n",
      " ================== \n",
      "type of gr2: <class 'pandas.core.groupby.generic.SeriesGroupBy'>\n",
      "ngroups: 7\n",
      "size: \n",
      " weekday\n",
      "0    23\n",
      "1    24\n",
      "2    24\n",
      "3    29\n",
      "4    21\n",
      "5    17\n",
      "6    18\n",
      "Name: score, dtype: int64\n"
     ]
    },
    {
     "data": {
      "text/plain": [
       "<pandas.core.groupby.generic.SeriesGroupBy object at 0x7f68a5e0e290>"
      ]
     },
     "metadata": {},
     "output_type": "display_data"
    },
    {
     "name": "stdout",
     "output_type": "stream",
     "text": [
      "count: \n",
      " weekday\n",
      "0    23\n",
      "1    24\n",
      "2    24\n",
      "3    29\n",
      "4    21\n",
      "5    17\n",
      "6    18\n",
      "Name: score, dtype: int64\n"
     ]
    }
   ],
   "source": [
    "gr1 = df.groupby('weekday')\n",
    "print(\"type of gr:\", type(gr1))\n",
    "print(\"ngroups:\", gr1.ngroups)\n",
    "print(\"size: \\n\", gr1.size())\n",
    "# print(\"shape: \\n\", gr1.shape)\n",
    "display(gr1)\n",
    "# print(\"count: \\n\", gr1.count())\n",
    "\n",
    "print(\" \\n\\n ================== \")\n",
    "\n",
    "# create dataframe from gr2\n",
    "gr2 = df.groupby('weekday')['score']\n",
    "print(\"type of gr2:\", type(gr2))\n",
    "print(\"ngroups:\", gr2.ngroups)\n",
    "print(\"size: \\n\", gr2.size())\n",
    "display(gr2)\n",
    "print(\"count: \\n\", gr2.count())"
   ]
  },
  {
   "cell_type": "markdown",
   "metadata": {
    "id": "rTzNZQFthjvn"
   },
   "source": [
    "\n",
    "You can actually measure the correlation between the two variables using Pandas. Let's do it in the cell below!"
   ]
  },
  {
   "cell_type": "code",
   "execution_count": 10,
   "metadata": {},
   "outputs": [
    {
     "data": {
      "text/plain": [
       "np.float64(0.7549057272454567)"
      ]
     },
     "execution_count": 10,
     "metadata": {},
     "output_type": "execute_result"
    }
   ],
   "source": [
    "(df.gdp_per_capita).corr(df.social_support)"
   ]
  },
  {
   "cell_type": "markdown",
   "metadata": {
    "id": "rTzNZQFthjvn"
   },
   "source": [
    "\n",
    "# 4. Check the Locations of Rides"
   ]
  },
  {
   "cell_type": "code",
   "execution_count": 11,
   "metadata": {},
   "outputs": [
    {
     "data": {
      "text/plain": [
       "Text(0, 0.5, 'Social Support Score')"
      ]
     },
     "execution_count": 11,
     "metadata": {},
     "output_type": "execute_result"
    },
    {
     "data": {
      "image/png": "[encoded data removed]",
      "text/plain": [
       "<Figure size 1000x600 with 2 Axes>"
      ]
     },
     "metadata": {},
     "output_type": "display_data"
    }
   ],
   "source": [
    "# Select the columns you want to plot\n",
    "gdp = df.dropna()[\"gdp_per_capita\"].to_numpy()\n",
    "social_support = df.dropna()[\"social_support\"].to_numpy()\n",
    "# Plot the 2D histogram\n",
    "fig, ax = plt.subplots(1, 1, figsize=(10, 6))\n",
    "hist = ax.hist2d(social_support, gdp, bins=10, density=True)\n",
    "ax.set_aspect(1.3, \"box\")\n",
    "fig.colorbar(hist[3])\n",
    "ax.set_xlabel(\"GDP per Capita (USD)\")\n",
    "ax.set_ylabel(\"Social Support Score\")"
   ]
  }
 ],
 "metadata": {
  "colab": {
   "private_outputs": true,
   "provenance": []
  },
  "kernelspec": {
   "display_name": "venv",
   "language": "python",
   "name": "python3"
  },
  "language_info": {
   "codemirror_mode": {
    "name": "ipython",
    "version": 3
   },
   "file_extension": ".py",
   "mimetype": "text/x-python",
   "name": "python",
   "nbconvert_exporter": "python",
   "pygments_lexer": "ipython3",
   "version": "3.11.13"
  }
 },
 "nbformat": 4,
 "nbformat_minor": 1
}
