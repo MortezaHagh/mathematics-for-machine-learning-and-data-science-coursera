{
 "cells": [
  {
   "cell_type": "markdown",
   "id": "acbb4f97",
   "metadata": {},
   "source": [
    "<a name='0'></a>\n",
    "# Intro #"
   ]
  },
  {
   "cell_type": "markdown",
   "id": "cb34fa60",
   "metadata": {},
   "source": [
    "## Table of Contents ##\n",
    "- [a](#0)\n",
    "- [b](#1)\n",
    "- [c](#2)"
   ]
  },
  {
   "cell_type": "markdown",
   "id": "0ec58945",
   "metadata": {},
   "source": [
    "<a name='1'></a>\n",
    "# 1-NumPy arrays #"
   ]
  },
  {
   "cell_type": "code",
   "execution_count": 195,
   "id": "21b935fd",
   "metadata": {},
   "outputs": [],
   "source": [
    "import numpy as np"
   ]
  },
  {
   "cell_type": "code",
   "execution_count": 196,
   "id": "b7c81d6c",
   "metadata": {},
   "outputs": [
    {
     "name": "stdout",
     "output_type": "stream",
     "text": [
      "[0 1 2]\n"
     ]
    }
   ],
   "source": [
    "# Create an array with 3 integers, starting from the default integer 0.\n",
    "b = np.arange(3)\n",
    "print(b)"
   ]
  },
  {
   "cell_type": "code",
   "execution_count": 197,
   "id": "89bba59d",
   "metadata": {},
   "outputs": [
    {
     "name": "stdout",
     "output_type": "stream",
     "text": [
      "[ 1.  4.  7. 10. 13. 16. 19.]\n"
     ]
    }
   ],
   "source": [
    "# Create an array that starts from the integer 1, ends at 20, incremented by 3.\n",
    "c = np.arange(1, 22, 3, dtype=float)\n",
    "print(c)"
   ]
  },
  {
   "cell_type": "code",
   "execution_count": 198,
   "id": "96b8b285",
   "metadata": {},
   "outputs": [
    {
     "name": "stdout",
     "output_type": "stream",
     "text": [
      "[  0.  20.  40.  60.  80. 100.]\n",
      "float64\n"
     ]
    }
   ],
   "source": [
    "# evenly spaced numbers over a specified interval.\n",
    "lin_spaced_arr = np.linspace(0, 100, 6)\n",
    "print(lin_spaced_arr)\n",
    "print(lin_spaced_arr.dtype)  # Prints the data type of the array"
   ]
  },
  {
   "cell_type": "code",
   "execution_count": 199,
   "id": "0504bdbc",
   "metadata": {},
   "outputs": [
    {
     "name": "stdout",
     "output_type": "stream",
     "text": [
      "[1. 1. 1.]\n"
     ]
    }
   ],
   "source": [
    "# Return a new array of shape 3, filled with ones.\n",
    "ones_arr = np.ones(3)\n",
    "print(ones_arr)"
   ]
  },
  {
   "cell_type": "code",
   "execution_count": 200,
   "id": "a4720b14",
   "metadata": {},
   "outputs": [
    {
     "name": "stdout",
     "output_type": "stream",
     "text": [
      "[0. 0. 0.]\n"
     ]
    }
   ],
   "source": [
    "# Return a new array of shape 3, filled with zeroes.\n",
    "zeros_arr = np.zeros(3)\n",
    "print(zeros_arr)"
   ]
  },
  {
   "cell_type": "code",
   "execution_count": 201,
   "id": "14847665",
   "metadata": {},
   "outputs": [
    {
     "name": "stdout",
     "output_type": "stream",
     "text": [
      "[0. 0. 0.]\n"
     ]
    }
   ],
   "source": [
    "# Return a new array of shape 3, without initializing entries.\n",
    "empt_arr = np.empty(3)\n",
    "print(empt_arr)"
   ]
  },
  {
   "cell_type": "code",
   "execution_count": 202,
   "id": "8941987c",
   "metadata": {},
   "outputs": [
    {
     "name": "stdout",
     "output_type": "stream",
     "text": [
      "[0.41461611 0.03394832 0.9679867 ]\n"
     ]
    }
   ],
   "source": [
    "# Return a new array of shape 3 with random numbers between 0 and 1.\n",
    "rand_arr = np.random.rand(3)\n",
    "print(rand_arr)"
   ]
  },
  {
   "cell_type": "markdown",
   "id": "f1070c6d",
   "metadata": {},
   "source": [
    "<a name='2'></a>\n",
    "# 2 - Multidimensional Arrays #"
   ]
  },
  {
   "cell_type": "code",
   "execution_count": 203,
   "id": "bd585830",
   "metadata": {},
   "outputs": [
    {
     "name": "stdout",
     "output_type": "stream",
     "text": [
      "[[1 2 3]\n",
      " [4 5 6]]\n"
     ]
    }
   ],
   "source": [
    "# Create a 2 dimensional array (2-D)\n",
    "two_dim_arr = np.array([[1, 2, 3], [4, 5, 6]])\n",
    "print(two_dim_arr)"
   ]
  },
  {
   "cell_type": "code",
   "execution_count": 204,
   "id": "5000df91",
   "metadata": {},
   "outputs": [
    {
     "name": "stdout",
     "output_type": "stream",
     "text": [
      "[[1 2 3]\n",
      " [4 5 6]]\n"
     ]
    }
   ],
   "source": [
    "# 1-D array\n",
    "one_dim_arr = np.array([1, 2, 3, 4, 5, 6])\n",
    "\n",
    "# Multidimensional array using reshape()\n",
    "multi_dim_arr = np.reshape(\n",
    "    one_dim_arr,  # the array to be reshaped\n",
    "    (2, 3)  # dimensions of the new array\n",
    ")\n",
    "# Print the new 2-D array with two rows and three columns\n",
    "print(multi_dim_arr)"
   ]
  },
  {
   "cell_type": "markdown",
   "id": "3e312888",
   "metadata": {},
   "source": []
  },
  {
   "cell_type": "markdown",
   "id": "2b6f7b59",
   "metadata": {},
   "source": [
    "<a name='2-1'></a>\n",
    "## 2.1 - Finding size, shape and dimension. ##"
   ]
  },
  {
   "cell_type": "code",
   "execution_count": 205,
   "id": "1062249a",
   "metadata": {},
   "outputs": [
    {
     "data": {
      "text/plain": [
       "2"
      ]
     },
     "execution_count": 205,
     "metadata": {},
     "output_type": "execute_result"
    }
   ],
   "source": [
    "# Dimension of the 2-D array multi_dim_arr\n",
    "multi_dim_arr.ndim"
   ]
  },
  {
   "cell_type": "code",
   "execution_count": 206,
   "id": "a66052a0",
   "metadata": {},
   "outputs": [
    {
     "data": {
      "text/plain": [
       "(2, 3)"
      ]
     },
     "execution_count": 206,
     "metadata": {},
     "output_type": "execute_result"
    }
   ],
   "source": [
    "# Shape of the 2-D array multi_dim_arr\n",
    "# Returns shape of 2 rows and 3 columns\n",
    "multi_dim_arr.shape"
   ]
  },
  {
   "cell_type": "code",
   "execution_count": 207,
   "id": "16272d1b",
   "metadata": {},
   "outputs": [
    {
     "data": {
      "text/plain": [
       "6"
      ]
     },
     "execution_count": 207,
     "metadata": {},
     "output_type": "execute_result"
    }
   ],
   "source": [
    "# Size of the array multi_dim_arr\n",
    "# Returns total number of elements\n",
    "multi_dim_arr.size"
   ]
  },
  {
   "cell_type": "markdown",
   "id": "441d70d2",
   "metadata": {},
   "source": [
    "<a name='3'></a>\n",
    "# 3 - Array math operations #"
   ]
  },
  {
   "cell_type": "code",
   "execution_count": 208,
   "id": "f7778f18",
   "metadata": {},
   "outputs": [
    {
     "name": "stdout",
     "output_type": "stream",
     "text": [
      "[ 2 12 30]\n"
     ]
    }
   ],
   "source": [
    "\n",
    "arr_1 = np.array([2, 4, 6])\n",
    "arr_2 = np.array([1, 3, 5])\n",
    "# Multiplying two 1-D arrays elementwise\n",
    "multiplication = arr_1 * arr_2\n",
    "print(multiplication)"
   ]
  },
  {
   "cell_type": "markdown",
   "id": "57602798",
   "metadata": {},
   "source": [
    "<a name='3-1'></a>\n",
    "## 3.1 - Multiplying vector with a scalar (broadcasting) ##"
   ]
  },
  {
   "cell_type": "code",
   "execution_count": 209,
   "id": "5659e9b8",
   "metadata": {},
   "outputs": [
    {
     "data": {
      "text/plain": [
       "array([1.6, 3.2])"
      ]
     },
     "execution_count": 209,
     "metadata": {},
     "output_type": "execute_result"
    }
   ],
   "source": [
    "vector = np.array([1, 2])\n",
    "vector * 1.6"
   ]
  },
  {
   "cell_type": "markdown",
   "id": "c62a5955",
   "metadata": {},
   "source": [
    "<a name='4'></a>\n",
    "# 4 - Indexing and slicing #\n",
    "\n",
    "## 4.1 - Indexing ##\n"
   ]
  },
  {
   "cell_type": "code",
   "execution_count": 210,
   "id": "d4187d28",
   "metadata": {},
   "outputs": [
    {
     "name": "stdout",
     "output_type": "stream",
     "text": [
      "8\n",
      "8\n"
     ]
    }
   ],
   "source": [
    "# Indexing on a 2-D array\n",
    "two_dim = np.array(([1, 2, 3],\n",
    "                    [4, 5, 6],\n",
    "                    [7, 8, 9]))\n",
    "# two ways\n",
    "print(two_dim[2][1])\n",
    "print(two_dim[2, 1])"
   ]
  },
  {
   "cell_type": "markdown",
   "id": "5a454c6e",
   "metadata": {},
   "source": [
    "<a name='4-2'></a>\n",
    "## 4.2 - Slicing ##"
   ]
  },
  {
   "cell_type": "code",
   "execution_count": 211,
   "id": "03e6d4b3",
   "metadata": {},
   "outputs": [],
   "source": [
    "a = np.array([1, 2, 3, 4, 5])"
   ]
  },
  {
   "cell_type": "code",
   "execution_count": 212,
   "id": "b6989325",
   "metadata": {},
   "outputs": [
    {
     "name": "stdout",
     "output_type": "stream",
     "text": [
      "[1 3 5]\n"
     ]
    }
   ],
   "source": [
    "# Slice the array a to get the array [1,3,5]\n",
    "sliced_arr = a[::2]\n",
    "print(sliced_arr)\n",
    "\n",
    "# Note that a == a[:] == a[::]"
   ]
  },
  {
   "cell_type": "code",
   "execution_count": 213,
   "id": "bd4da5cc",
   "metadata": {},
   "outputs": [
    {
     "name": "stdout",
     "output_type": "stream",
     "text": [
      "[[1 2 3]\n",
      " [4 5 6]\n",
      " [7 8 9]]\n",
      "[5 8]\n"
     ]
    }
   ],
   "source": [
    "sliced_two_dim_cols = two_dim[1:3, 1]\n",
    "print(two_dim)\n",
    "print(sliced_two_dim_cols)"
   ]
  },
  {
   "cell_type": "markdown",
   "id": "7a49538d",
   "metadata": {},
   "source": [
    "<a name='5'></a>\n",
    "# 5 - Stacking #\n",
    "It means to join two or more arrays, either horizontally or vertically, meaning that it is done along a new axis. \n",
    "\n",
    "- `np.vstack()` - stacks vertically\n",
    "- `np.hstack()` - stacks horizontally\n",
    "- `np.hsplit()` - splits an array into several smaller arrays"
   ]
  },
  {
   "cell_type": "code",
   "execution_count": 214,
   "id": "6775e1d2",
   "metadata": {},
   "outputs": [
    {
     "name": "stdout",
     "output_type": "stream",
     "text": [
      "a1:\n",
      "[[1 1]\n",
      " [2 2]]\n",
      "a2:\n",
      "[[3 3]\n",
      " [4 4]]\n"
     ]
    }
   ],
   "source": [
    "a1 = np.array([[1, 1],\n",
    "               [2, 2]])\n",
    "a2 = np.array([[3, 3],\n",
    "              [4, 4]])\n",
    "print(f'a1:\\n{a1}')\n",
    "print(f'a2:\\n{a2}')"
   ]
  },
  {
   "cell_type": "code",
   "execution_count": 215,
   "id": "85d68283",
   "metadata": {},
   "outputs": [
    {
     "name": "stdout",
     "output_type": "stream",
     "text": [
      "[[1 1]\n",
      " [2 2]\n",
      " [3 3]\n",
      " [4 4]]\n"
     ]
    }
   ],
   "source": [
    "# Stack the arrays vertically\n",
    "vert_stack = np.vstack((a1, a2))\n",
    "print(vert_stack)"
   ]
  },
  {
   "cell_type": "code",
   "execution_count": 216,
   "id": "945e027a",
   "metadata": {},
   "outputs": [
    {
     "name": "stdout",
     "output_type": "stream",
     "text": [
      "[[1 1 3 3]\n",
      " [2 2 4 4]]\n"
     ]
    }
   ],
   "source": [
    "# Stack the arrays horizontally\n",
    "horz_stack = np.hstack((a1, a2))\n",
    "print(horz_stack)"
   ]
  },
  {
   "cell_type": "code",
   "execution_count": 217,
   "id": "2bc5d003",
   "metadata": {},
   "outputs": [
    {
     "name": "stdout",
     "output_type": "stream",
     "text": [
      "[array([[1, 1],\n",
      "       [2, 2]]), array([[3, 3],\n",
      "       [4, 4]])]\n",
      "[array([[1],\n",
      "       [2]]), array([[1],\n",
      "       [2]]), array([[3],\n",
      "       [4]]), array([[3],\n",
      "       [4]])]\n",
      "[array([[1],\n",
      "       [2]]), array([[1, 3, 3],\n",
      "       [2, 4, 4]])]\n"
     ]
    }
   ],
   "source": [
    "# Split the horizontally stacked array into 2 separate arrays of equal size\n",
    "horz_split_two = np.hsplit(horz_stack, 2)\n",
    "print(horz_split_two)\n",
    "\n",
    "# Split the horizontally stacked array into 4 separate arrays of equal size\n",
    "horz_split_four = np.hsplit(horz_stack, 4)\n",
    "print(horz_split_four)\n",
    "\n",
    "# Split the horizontally stacked array after the first column\n",
    "horz_split_first = np.hsplit(horz_stack, [1])\n",
    "print(horz_split_first)"
   ]
  },
  {
   "cell_type": "code",
   "execution_count": 218,
   "id": "6fd55e38",
   "metadata": {},
   "outputs": [
    {
     "name": "stdout",
     "output_type": "stream",
     "text": [
      "[array([[1, 1],\n",
      "       [2, 2]]), array([[3, 3],\n",
      "       [4, 4]])]\n",
      "[array([[1, 1]]), array([[2, 2]]), array([[3, 3]]), array([[4, 4]])]\n",
      "[array([[1, 1]]), array([[2, 2],\n",
      "       [3, 3]]), array([[4, 4]])]\n"
     ]
    }
   ],
   "source": [
    "# Split the vertically stacked array into 2 separate arrays of equal size\n",
    "vert_split_two = np.vsplit(vert_stack, 2)\n",
    "print(vert_split_two)\n",
    "\n",
    "# Split the horizontally stacked array into 4 separate arrays of equal size\n",
    "vert_split_four = np.vsplit(vert_stack, 4)\n",
    "print(vert_split_four)\n",
    "\n",
    "# Split the horizontally stacked array after the first and third row\n",
    "vert_split_first_third = np.vsplit(vert_stack, [1, 3])\n",
    "print(vert_split_first_third)"
   ]
  },
  {
   "cell_type": "markdown",
   "id": "599c92a1",
   "metadata": {},
   "source": [
    "<a name='6'></a>\n",
    "# 6 - Vector Operations: Scalar Multiplication, Sum and Dot Product of Vectors"
   ]
  },
  {
   "cell_type": "markdown",
   "id": "c9fa5a7a",
   "metadata": {},
   "source": []
  },
  {
   "cell_type": "code",
   "execution_count": 219,
   "id": "b7fd737c",
   "metadata": {},
   "outputs": [],
   "source": [
    "v = np.array([[1], [3]])\n",
    "w = np.array([[4], [-1]])"
   ]
  },
  {
   "cell_type": "code",
   "execution_count": 220,
   "id": "bdb21d51",
   "metadata": {},
   "outputs": [
    {
     "name": "stdout",
     "output_type": "stream",
     "text": [
      "Norm of a vector v is 3.1622776601683795\n"
     ]
    }
   ],
   "source": [
    "print(\"Norm of a vector v is\", np.linalg.norm(v))"
   ]
  },
  {
   "cell_type": "markdown",
   "id": "0c5a4fed",
   "metadata": {},
   "source": [
    "<a name='6.1'></a>\n",
    "### 6.1 - Dot Product using Python"
   ]
  },
  {
   "cell_type": "code",
   "execution_count": 221,
   "id": "2a21a729",
   "metadata": {},
   "outputs": [
    {
     "name": "stdout",
     "output_type": "stream",
     "text": [
      "The dot product of x and y is 3\n"
     ]
    }
   ],
   "source": [
    "x = [1, -2, -5]\n",
    "y = [4, 3, -1]\n",
    "print(\"The dot product of x and y is\", np.dot(x, y))"
   ]
  },
  {
   "cell_type": "markdown",
   "id": "d649f8a6",
   "metadata": {},
   "source": [
    "Note that you did not have to define vectors $x$ and $y$ as `NumPy` arrays, the function worked even with the lists. But there are alternative functions in Python, such as explicit operator `@` for the dot product, which can be applied only to the `NumPy` arrays. You can run the following cell to check that."
   ]
  },
  {
   "cell_type": "code",
   "execution_count": 222,
   "id": "5633ee78",
   "metadata": {},
   "outputs": [],
   "source": [
    "# print(x @ y)\n",
    "# TypeError: unsupported operand type(s) for @: 'list' and 'list'"
   ]
  },
  {
   "cell_type": "code",
   "execution_count": 223,
   "id": "57b4b58e",
   "metadata": {},
   "outputs": [
    {
     "data": {
      "text/plain": [
       "3"
      ]
     },
     "execution_count": 223,
     "metadata": {},
     "output_type": "execute_result"
    }
   ],
   "source": [
    "np.array(x) @ np.array(y)"
   ]
  },
  {
   "cell_type": "markdown",
   "id": "87ca52f4",
   "metadata": {},
   "source": [
    "<a name='7'></a>\n",
    "## 7 - Definition of Matrix Multiplication"
   ]
  },
  {
   "cell_type": "code",
   "execution_count": 224,
   "id": "57bb00a4",
   "metadata": {},
   "outputs": [
    {
     "name": "stdout",
     "output_type": "stream",
     "text": [
      "Matrix A (3 by 3):\n",
      " [[4 9 9]\n",
      " [9 1 6]\n",
      " [9 2 3]]\n",
      "Matrix B (3 by 2):\n",
      " [[2 2]\n",
      " [5 7]\n",
      " [4 4]]\n"
     ]
    }
   ],
   "source": [
    "A = np.array([[4, 9, 9], [9, 1, 6], [9, 2, 3]])\n",
    "print(\"Matrix A (3 by 3):\\n\", A)\n",
    "\n",
    "B = np.array([[2, 2], [5, 7], [4, 4]])\n",
    "print(\"Matrix B (3 by 2):\\n\", B)"
   ]
  },
  {
   "cell_type": "markdown",
   "id": "1dceac66",
   "metadata": {},
   "source": [
    "You can multiply matrices $A$ and $B$ using `NumPy` package function `np.matmul()`:"
   ]
  },
  {
   "cell_type": "code",
   "execution_count": 225,
   "id": "1a324b8e",
   "metadata": {},
   "outputs": [
    {
     "data": {
      "text/plain": [
       "array([[ 89, 107],\n",
       "       [ 47,  49],\n",
       "       [ 40,  44]])"
      ]
     },
     "execution_count": 225,
     "metadata": {},
     "output_type": "execute_result"
    }
   ],
   "source": [
    "np.matmul(A, B)"
   ]
  },
  {
   "cell_type": "markdown",
   "id": "7b9a7fd8",
   "metadata": {},
   "source": [
    "Which will output $3 \\times 2$ matrix as a `np.array`. Python operator `@` will also work here giving the same result:"
   ]
  },
  {
   "cell_type": "code",
   "execution_count": 226,
   "id": "dbcbb831",
   "metadata": {},
   "outputs": [
    {
     "data": {
      "text/plain": [
       "array([[ 89, 107],\n",
       "       [ 47,  49],\n",
       "       [ 40,  44]])"
      ]
     },
     "execution_count": 226,
     "metadata": {},
     "output_type": "execute_result"
    }
   ],
   "source": [
    "A @ B"
   ]
  },
  {
   "cell_type": "markdown",
   "id": "e3b7dbeb",
   "metadata": {},
   "source": [
    "### dot "
   ]
  },
  {
   "cell_type": "code",
   "execution_count": 227,
   "id": "3cf684c8",
   "metadata": {},
   "outputs": [
    {
     "data": {
      "text/plain": [
       "array([[ 89, 107],\n",
       "       [ 47,  49],\n",
       "       [ 40,  44]])"
      ]
     },
     "execution_count": 227,
     "metadata": {},
     "output_type": "execute_result"
    }
   ],
   "source": [
    "np.dot(A, B)"
   ]
  },
  {
   "cell_type": "markdown",
   "id": "b8dadfb2",
   "metadata": {},
   "source": [
    "<a name='8'></a>\n",
    "# 8 - eigenvalues and eigenvectors"
   ]
  },
  {
   "cell_type": "code",
   "execution_count": 228,
   "id": "c7dfe058",
   "metadata": {},
   "outputs": [],
   "source": [
    "import numpy as np"
   ]
  },
  {
   "cell_type": "code",
   "execution_count": 229,
   "id": "35c44360",
   "metadata": {},
   "outputs": [],
   "source": [
    "A = np.array([[2, 3], [2, 1]])\n",
    "e1 = np.array([[1], [0]])\n",
    "e2 = np.array([[0], [1]])"
   ]
  },
  {
   "cell_type": "code",
   "execution_count": 230,
   "id": "fd284030",
   "metadata": {},
   "outputs": [
    {
     "name": "stdout",
     "output_type": "stream",
     "text": [
      "Matrix A:\n",
      "[[2 3]\n",
      " [2 1]]\n",
      "Eigenvalues of matrix A:\n",
      "[ 4. -1.]\n",
      "\n",
      "Eigenvectors of matrix A:\n",
      "[[ 0.83205029 -0.70710678]\n",
      " [ 0.5547002   0.70710678]]\n"
     ]
    }
   ],
   "source": [
    "A_eig = np.linalg.eig(A)\n",
    "\n",
    "print(f\"Matrix A:\\n{A}\")\n",
    "print(f\"Eigenvalues of matrix A:\\n{A_eig[0]}\\n\")\n",
    "print(f\"Eigenvectors of matrix A:\\n{A_eig[1]}\")"
   ]
  },
  {
   "cell_type": "code",
   "execution_count": 231,
   "id": "35bb568f",
   "metadata": {},
   "outputs": [
    {
     "name": "stdout",
     "output_type": "stream",
     "text": [
      "[0.83205029 0.5547002 ]\n",
      "[-0.70710678  0.70710678]\n"
     ]
    }
   ],
   "source": [
    "#  first eigenvector\n",
    "print(A_eig[1][:, 0])\n",
    "#  second eigenvector\n",
    "print(A_eig[1][:, 1])"
   ]
  },
  {
   "cell_type": "markdown",
   "id": "ec4c37ed",
   "metadata": {},
   "source": [
    "# other"
   ]
  },
  {
   "cell_type": "code",
   "execution_count": 232,
   "id": "d8949c90",
   "metadata": {},
   "outputs": [
    {
     "data": {
      "text/plain": [
       "False"
      ]
     },
     "execution_count": 232,
     "metadata": {},
     "output_type": "execute_result"
    }
   ],
   "source": [
    "# The usage of np.isclose is a good practice when comparing two floats.\n",
    "np.isclose(1, 0)"
   ]
  },
  {
   "cell_type": "code",
   "execution_count": 233,
   "id": "00d33f07",
   "metadata": {},
   "outputs": [],
   "source": [
    "# cov_matrix = np.cov(X, rowvar=False)"
   ]
  }
 ],
 "metadata": {
  "kernelspec": {
   "display_name": "Python 3",
   "language": "python",
   "name": "python3"
  },
  "language_info": {
   "codemirror_mode": {
    "name": "ipython",
    "version": 3
   },
   "file_extension": ".py",
   "mimetype": "text/x-python",
   "name": "python",
   "nbconvert_exporter": "python",
   "pygments_lexer": "ipython3",
   "version": "3.8.10"
  }
 },
 "nbformat": 4,
 "nbformat_minor": 5
}
