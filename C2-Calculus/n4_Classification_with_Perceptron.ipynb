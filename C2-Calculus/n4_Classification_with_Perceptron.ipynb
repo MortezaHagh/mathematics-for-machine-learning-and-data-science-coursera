{
 "cells": [
  {
   "cell_type": "markdown",
   "metadata": {
    "id": "EAt-K2qgcIou"
   },
   "source": [
    "# Classification with Perceptron"
   ]
  },
  {
   "cell_type": "markdown",
   "metadata": {
    "id": "FZYK-0rin5x7"
   },
   "source": [
    "In this lab, you will use a single perceptron neural network model to solve a simple classification problem. "
   ]
  },
  {
   "cell_type": "markdown",
   "metadata": {},
   "source": [
    "# Table of Contents\n",
    "\n",
    "- [ 1 - Simple Classification Problem](#1)\n",
    "- [ 2 - Single Perceptron Neural Network with Activation Function](#2)\n",
    "  - [ 2.1 - Neural Network Structure](#2.1)\n",
    "  - [ 2.2 - Dataset](#2.2)\n",
    "  - [ 2.3 - Define Activation Function](#2.3)\n",
    "- [ 3 - Implementation of the Neural Network Model](#3)\n",
    "  - [ 3.1 - Defining the Neural Network Structure](#3.1)\n",
    "  - [ 3.2 - Initialize the Model's Parameters](#3.2)\n",
    "  - [ 3.3 - The Loop](#3.3)\n",
    "  - [ 3.4 - Integrate parts 3.1, 3.2 and 3.3 in nn_model() and make predictions](#3.4)\n",
    "- [ 4 - Performance on a Larger Dataset](#4)"
   ]
  },
  {
   "cell_type": "markdown",
   "metadata": {
    "id": "XI8PBrk_2Z4V"
   },
   "source": [
    "## Packages\n",
    "\n",
    "Let's first import all the packages that you will need during this lab."
   ]
  },
  {
   "cell_type": "code",
   "execution_count": 3,
   "metadata": {
    "tags": [
     "graded"
    ]
   },
   "outputs": [],
   "source": [
    "import numpy as np\n",
    "import matplotlib.pyplot as plt\n",
    "from matplotlib import colors\n",
    "# A function to create a dataset.\n",
    "from sklearn.datasets import make_blobs \n",
    "\n",
    "%matplotlib inline \n",
    "\n",
    "np.random.seed(3)"
   ]
  },
  {
   "cell_type": "markdown",
   "metadata": {},
   "source": [
    "<a name='2'></a>\n",
    "## 2 - Single Perceptron Neural Network with Activation Function\n",
    "\n",
    "You already have constructed and trained a neural network model with one **perceptron**. Here a similar model can be used, but with an activation function. Then a single perceptron basically works as a threshold function."
   ]
  },
  {
   "cell_type": "markdown",
   "metadata": {},
   "source": [
    "<a name='2.1'></a>\n",
    "### 2.1 - Neural Network Structure"
   ]
  },
  {
   "cell_type": "markdown",
   "metadata": {},
   "source": [
    "The neural network components are shown in the following scheme:\n",
    "\n",
    "<img src=\"images/nn_model_classification_1_layer.png\" style=\"width:600px;\">\n",
    "\n",
    "Similarly to the previous lab, the input layer contains two nodes $x_1$ and $x_2$. Weight vector $W = \\begin{bmatrix} w_1 & w_2\\end{bmatrix}$ and bias ($b$) are the parameters to be updated during the model training. First step in the forward propagation is the same as in the previous lab. For every training example $x^{(i)} = \\begin{bmatrix} x_1^{(i)} & x_2^{(i)}\\end{bmatrix}$:\n",
    "\n",
    "$$z^{(i)} = w_1x_1^{(i)} + w_2x_2^{(i)} + b = Wx^{(i)} + b.\\tag{1}$$\n"
   ]
  },
  {
   "cell_type": "markdown",
   "metadata": {},
   "source": [
    "But now you cannot take a real number $z^{(i)}$ into the output as you need to perform classification. It could be done with a discrete approach: compare the result with zero, and classify as $0$ (blue) if it is below zero and $1$ (red) if it is above zero. Then define cost function as a percentage of incorrectly identified classes and perform backward propagation.\n",
    "\n",
    "This extra step in the forward propagation is actually an application of an **activation function**. It would be possible to implement the discrete approach described above (with unit step function) for this problem, but it turns out that there is a continuous approach that works better and is commonly used in more complicated neural networks. So you will implement it here: single perceptron with sigmoid activation function."
   ]
  },
  {
   "cell_type": "markdown",
   "metadata": {},
   "source": [
    "Sigmoid activation function is defined as\n",
    "\n",
    "$$a = \\sigma\\left(z\\right) = \\frac{1}{1+e^{-z}}.\\tag{2}$$\n",
    "\n",
    "Then a threshold value of $0.5$ can be used for predictions: $1$ (red) if  $a > 0.5$ and $0$ (blue) otherwise. Putting it all together, mathematically the single perceptron neural network with sigmoid activation function can be expressed as:\n",
    "\n",
    "\\begin{align}\n",
    "z^{(i)} &=  W x^{(i)} + b,\\\\\n",
    "a^{(i)} &= \\sigma\\left(z^{(i)}\\right).\\\\\\tag{3}\n",
    "\\end{align}"
   ]
  },
  {
   "cell_type": "markdown",
   "metadata": {},
   "source": [
    "If you have $m$ training examples organised in the columns of ($2 \\times m$) matrix $X$, you can apply the activation function element-wise. So the model can be written as:\n",
    "\n",
    "\\begin{align}\n",
    "Z &=  W X + b,\\\\\n",
    "A &= \\sigma\\left(Z\\right),\\\\\\tag{4}\n",
    "\\end{align}\n",
    "\n",
    "where $b$ is broadcasted to the vector of a size ($1 \\times m$). \n",
    "\n",
    "When dealing with classification problems, the most commonly used cost function is the **log loss**, which is described by the following equation:\n",
    "\n",
    "$$\\mathcal{L}\\left(W, b\\right) = \\frac{1}{m}\\sum_{i=1}^{m} L\\left(W, b\\right) = \\frac{1}{m}\\sum_{i=1}^{m}  \\large\\left(\\small -y^{(i)}\\log\\left(a^{(i)}\\right) - (1-y^{(i)})\\log\\left(1- a^{(i)}\\right)  \\large  \\right) \\small,\\tag{5}$$\n",
    "\n",
    "where $y^{(i)} \\in \\{0,1\\}$ are the original labels and $a^{(i)}$ are the continuous output values of the forward propagation step (elements of array $A$)."
   ]
  },
  {
   "cell_type": "markdown",
   "metadata": {},
   "source": [
    "You want to minimize the cost function during the training. To implement gradient descent, calculate partial derivatives using chain rule:\n",
    "\n",
    "\\begin{align}\n",
    "\\frac{\\partial \\mathcal{L} }{ \\partial w_1 } &= \n",
    "\\frac{1}{m}\\sum_{i=1}^{m} \\frac{\\partial L }{ \\partial a^{(i)}}\n",
    "\\frac{\\partial a^{(i)} }{ \\partial z^{(i)}}\\frac{\\partial z^{(i)} }{ \\partial w_1},\\\\\n",
    "\\frac{\\partial \\mathcal{L} }{ \\partial w_2 } &= \n",
    "\\frac{1}{m}\\sum_{i=1}^{m} \\frac{\\partial L }{ \\partial a^{(i)}}\n",
    "\\frac{\\partial a^{(i)} }{ \\partial z^{(i)}}\\frac{\\partial z^{(i)} }{ \\partial w_2},\\tag{6}\\\\\n",
    "\\frac{\\partial \\mathcal{L} }{ \\partial b } &= \n",
    "\\frac{1}{m}\\sum_{i=1}^{m} \\frac{\\partial L }{ \\partial a^{(i)}}\n",
    "\\frac{\\partial a^{(i)} }{ \\partial z^{(i)}}\\frac{\\partial z^{(i)} }{ \\partial b}.\n",
    "\\end{align}\n",
    "\n",
    "As discussed in the videos, $\\frac{\\partial L }{ \\partial a^{(i)}}\n",
    "\\frac{\\partial a^{(i)} }{ \\partial z^{(i)}} = \\left(a^{(i)} - y^{(i)}\\right)$, $\\frac{\\partial z^{(i)}}{ \\partial w_1} = x_1^{(i)}$, $\\frac{\\partial z^{(i)}}{ \\partial w_2} = x_2^{(i)}$ and $\\frac{\\partial z^{(i)}}{ \\partial b} = 1$. Then $(6)$ can be rewritten as:\n",
    "\n",
    "\\begin{align}\n",
    "\\frac{\\partial \\mathcal{L} }{ \\partial w_1 } &= \n",
    "\\frac{1}{m}\\sum_{i=1}^{m} \\left(a^{(i)} - y^{(i)}\\right)x_1^{(i)},\\\\\n",
    "\\frac{\\partial \\mathcal{L} }{ \\partial w_2 } &= \n",
    "\\frac{1}{m}\\sum_{i=1}^{m} \\left(a^{(i)} - y^{(i)}\\right)x_2^{(i)},\\tag{7}\\\\\n",
    "\\frac{\\partial \\mathcal{L} }{ \\partial b } &= \n",
    "\\frac{1}{m}\\sum_{i=1}^{m} \\left(a^{(i)} - y^{(i)}\\right).\n",
    "\\end{align}\n",
    "\n",
    "Note that the obtained expressions $(7)$ are exactly the same as in the section $3.2$ of the previous lab, when multiple linear regression model was discussed. Thus, they can be rewritten in a matrix form:\n",
    "\n",
    "\\begin{align}\n",
    "\\frac{\\partial \\mathcal{L} }{ \\partial W } &= \n",
    "\\begin{bmatrix} \\frac{\\partial \\mathcal{L} }{ \\partial w_1 } & \n",
    "\\frac{\\partial \\mathcal{L} }{ \\partial w_2 }\\end{bmatrix} = \\frac{1}{m}\\left(A - Y\\right)X^T,\\\\\n",
    "\\frac{\\partial \\mathcal{L} }{ \\partial b } &= \\frac{1}{m}\\left(A - Y\\right)\\mathbf{1}.\n",
    "\\tag{8}\n",
    "\\end{align}\n",
    "\n",
    "where $\\left(A - Y\\right)$ is an array of a shape ($1 \\times m$), $X^T$ is an array of a shape ($m \\times 2$) and $\\mathbf{1}$ is just a ($m \\times 1$) vector of ones.\n",
    "\n"
   ]
  },
  {
   "cell_type": "markdown",
   "metadata": {},
   "source": [
    "Then you can update the parameters:\n",
    "\n",
    "\\begin{align}\n",
    "W &= W - \\alpha \\frac{\\partial \\mathcal{L} }{ \\partial W },\\\\\n",
    "b &= b - \\alpha \\frac{\\partial \\mathcal{L} }{ \\partial b },\n",
    "\\tag{9}\\end{align}\n",
    "\n",
    "where $\\alpha$ is the learning rate. Repeat the process in a loop until the cost function stops decreasing."
   ]
  },
  {
   "cell_type": "markdown",
   "metadata": {},
   "source": [
    "Finally, the predictions for some example $x$ can be made taking the output $a$ and calculating $\\hat{y}$ as"
   ]
  },
  {
   "cell_type": "markdown",
   "metadata": {},
   "source": [
    "$$\\hat{y} = \\begin{cases} 1 & \\mbox{if } a > 0.5 \\\\ 0 & \\mbox{otherwise } \\end{cases}\\tag{10}$$"
   ]
  },
  {
   "cell_type": "markdown",
   "metadata": {},
   "source": [
    "<a name='2.2'></a>\n",
    "### 2.2 - Dataset\n",
    "\n",
    "Let's get the dataset you will work on. The following code will create $m=30$ data points $(x_1, x_2)$, where $x_1, x_2 \\in \\{0,1\\}$ and save them in the `NumPy` array `X` of a shape $(2 \\times m)$ (in the columns of the array). The labels ($0$: blue, $1$: red) will be calculated so that $y = 1$ if $x_1 = 0$ and $x_2 = 1$, in the rest of the cases $y=0$. The labels will be saved in the array `Y` of a shape $(1 \\times m)$."
   ]
  },
  {
   "cell_type": "code",
   "execution_count": 4,
   "metadata": {
    "tags": [
     "graded"
    ]
   },
   "outputs": [
    {
     "name": "stdout",
     "output_type": "stream",
     "text": [
      "Training dataset X containing (x1, x2) coordinates in the columns:\n",
      "[[0 0 1 1 0 0 0 1 1 1 0 1 1 1 0 1 1 0 0 0 0 1 1 0 0 0 1 0 0 0]\n",
      " [0 1 0 1 1 0 1 0 0 1 1 0 0 1 0 1 0 1 1 1 1 0 1 0 0 1 1 1 0 0]]\n",
      "Training dataset Y containing labels of two classes (0: blue, 1: red)\n",
      "[[0 1 0 0 1 0 1 0 0 0 1 0 0 0 0 0 0 1 1 1 1 0 0 0 0 1 0 1 0 0]]\n",
      "The shape of X is: (2, 30)\n",
      "The shape of Y is: (1, 30)\n",
      "I have m = 30 training examples!\n"
     ]
    }
   ],
   "source": [
    "m = 30\n",
    "\n",
    "X = np.random.randint(0, 2, (2, m))\n",
    "Y = np.logical_and(X[0] == 0, X[1] == 1).astype(int).reshape((1, m))\n",
    "\n",
    "print('Training dataset X containing (x1, x2) coordinates in the columns:')\n",
    "print(X)\n",
    "print('Training dataset Y containing labels of two classes (0: blue, 1: red)')\n",
    "print(Y)\n",
    "\n",
    "print('The shape of X is: ' + str(X.shape))\n",
    "print('The shape of Y is: ' + str(Y.shape))\n",
    "print('I have m = %d training examples!' % (X.shape[1]))"
   ]
  },
  {
   "cell_type": "markdown",
   "metadata": {},
   "source": [
    "<a name='2.3'></a>\n",
    "### 2.3 - Define Activation Function\n",
    "\n",
    "The sigmoid function $(2)$ for a variable $z$ can be defined with the following code:"
   ]
  },
  {
   "cell_type": "code",
   "execution_count": 5,
   "metadata": {
    "tags": [
     "graded"
    ]
   },
   "outputs": [
    {
     "name": "stdout",
     "output_type": "stream",
     "text": [
      "sigmoid(-2) = 0.11920292202211755\n",
      "sigmoid(0) = 0.5\n",
      "sigmoid(3.5) = 0.9706877692486436\n"
     ]
    }
   ],
   "source": [
    "def sigmoid(z):\n",
    "    return 1/(1 + np.exp(-z))\n",
    "\n",
    "\n",
    "print(\"sigmoid(-2) = \" + str(sigmoid(-2)))\n",
    "print(\"sigmoid(0) = \" + str(sigmoid(0)))\n",
    "print(\"sigmoid(3.5) = \" + str(sigmoid(3.5)))"
   ]
  },
  {
   "cell_type": "markdown",
   "metadata": {},
   "source": [
    "It can be applied to a `NumPy` array element by element:"
   ]
  },
  {
   "cell_type": "code",
   "execution_count": 6,
   "metadata": {
    "tags": [
     "graded"
    ]
   },
   "outputs": [
    {
     "name": "stdout",
     "output_type": "stream",
     "text": [
      "[0.11920292 0.5        0.97068777]\n"
     ]
    }
   ],
   "source": [
    "print(sigmoid(np.array([-2, 0, 3.5])))"
   ]
  },
  {
   "cell_type": "markdown",
   "metadata": {},
   "source": [
    "<a name='3'></a>\n",
    "## 3 - Implementation of the Neural Network Model\n",
    "\n",
    "Implementation of the described neural network will be very similar to the previous lab. The differences will be only in the functions `forward_propagation` and `compute_cost`!"
   ]
  },
  {
   "cell_type": "markdown",
   "metadata": {},
   "source": [
    "<a name='3.1'></a>\n",
    "### 3.1 - Defining the Neural Network Structure"
   ]
  },
  {
   "cell_type": "markdown",
   "metadata": {},
   "source": [
    "Define two variables:\n",
    "- `n_x`: the size of the input layer\n",
    "- `n_y`: the size of the output layer\n",
    "\n",
    "using shapes of arrays `X` and `Y`."
   ]
  },
  {
   "cell_type": "code",
   "execution_count": 20,
   "metadata": {
    "tags": [
     "graded"
    ]
   },
   "outputs": [
    {
     "name": "stdout",
     "output_type": "stream",
     "text": [
      "The size of the input layer is: n_x = 2\n",
      "The size of the output layer is: n_y = 1\n"
     ]
    }
   ],
   "source": [
    "def layer_sizes(X, Y):\n",
    "    \"\"\"\n",
    "    Arguments:\n",
    "    X -- input dataset of shape (input size, number of examples)\n",
    "    Y -- labels of shape (output size, number of examples)\n",
    "\n",
    "    Returns:\n",
    "    n_x -- the size of the input layer\n",
    "    n_y -- the size of the output layer\n",
    "    \"\"\"\n",
    "    n_x = X.shape[0]\n",
    "    n_y = Y.shape[0]\n",
    "\n",
    "    return (n_x, n_y)\n",
    "\n",
    "\n",
    "(n_x, n_y) = layer_sizes(X, Y)\n",
    "print(\"The size of the input layer is: n_x = \" + str(n_x))\n",
    "print(\"The size of the output layer is: n_y = \" + str(n_y))"
   ]
  },
  {
   "cell_type": "markdown",
   "metadata": {},
   "source": [
    "<a name='3.2'></a>\n",
    "### 3.2 - Initialize the Model's Parameters"
   ]
  },
  {
   "cell_type": "markdown",
   "metadata": {},
   "source": [
    "Implement the function `initialize_parameters()`, initializing the weights array of shape $(n_y \\times n_x) = (1 \\times 1)$ with random values and the bias vector of shape $(n_y \\times 1) = (1 \\times 1)$ with zeros."
   ]
  },
  {
   "cell_type": "code",
   "execution_count": 21,
   "metadata": {
    "tags": [
     "graded"
    ]
   },
   "outputs": [
    {
     "name": "stdout",
     "output_type": "stream",
     "text": [
      "W = [[-0.00803766 -0.02419083]]\n",
      "b = [[0.]]\n"
     ]
    }
   ],
   "source": [
    "def initialize_parameters(n_x, n_y):\n",
    "    \"\"\"\n",
    "    Returns:\n",
    "    params -- python dictionary containing your parameters:\n",
    "                    W -- weight matrix of shape (n_y, n_x)\n",
    "                    b -- bias value set as a vector of shape (n_y, 1)\n",
    "    \"\"\"\n",
    "\n",
    "    W = np.random.randn(n_y, n_x) * 0.01\n",
    "    b = np.zeros((n_y, 1))\n",
    "\n",
    "    parameters = {\"W\": W,\n",
    "                  \"b\": b}\n",
    "\n",
    "    return parameters\n",
    "\n",
    "\n",
    "parameters = initialize_parameters(n_x, n_y)\n",
    "print(\"W = \" + str(parameters[\"W\"]))\n",
    "print(\"b = \" + str(parameters[\"b\"]))"
   ]
  },
  {
   "cell_type": "markdown",
   "metadata": {},
   "source": [
    "<a name='3.3'></a>\n",
    "### 3.3 - The Loop"
   ]
  },
  {
   "cell_type": "markdown",
   "metadata": {},
   "source": [
    "Implement `forward_propagation()` following the equation $(4)$ in the section [2.1](#2.1):\n",
    "\\begin{align}\n",
    "Z &=  W X + b,\\\\\n",
    "A &= \\sigma\\left(Z\\right).\n",
    "\\end{align}"
   ]
  },
  {
   "cell_type": "code",
   "execution_count": 22,
   "metadata": {
    "tags": [
     "graded"
    ]
   },
   "outputs": [
    {
     "name": "stdout",
     "output_type": "stream",
     "text": [
      "Output vector A: [[0.5        0.49395259 0.4979906  0.49194357 0.49395259 0.5\n",
      "  0.49395259 0.4979906  0.4979906  0.49194357 0.49395259 0.4979906\n",
      "  0.4979906  0.49194357 0.5        0.49194357 0.4979906  0.49395259\n",
      "  0.49395259 0.49395259 0.49395259 0.4979906  0.49194357 0.5\n",
      "  0.5        0.49395259 0.49194357 0.49395259 0.5        0.5       ]]\n"
     ]
    }
   ],
   "source": [
    "def forward_propagation(X, parameters):\n",
    "    \"\"\"\n",
    "    Argument:\n",
    "    X -- input data of size (n_x, m)\n",
    "    parameters -- python dictionary containing your parameters (output of initialization function)\n",
    "\n",
    "    Returns:\n",
    "    A -- The output\n",
    "    \"\"\"\n",
    "    W = parameters[\"W\"]\n",
    "    b = parameters[\"b\"]\n",
    "\n",
    "    # Forward Propagation to calculate Z.\n",
    "    Z = np.matmul(W, X) + b\n",
    "    A = sigmoid(Z)\n",
    "\n",
    "    return A\n",
    "\n",
    "\n",
    "A = forward_propagation(X, parameters)\n",
    "\n",
    "print(\"Output vector A:\", A)"
   ]
  },
  {
   "cell_type": "markdown",
   "metadata": {},
   "source": [
    "Your weights were just initialized with some random values, so the model has not been trained yet. \n",
    "\n",
    "Define a cost function $(5)$ which will be used to train the model:\n",
    "\n",
    "$$\\mathcal{L}\\left(W, b\\right)  = \\frac{1}{m}\\sum_{i=1}^{m}  \\large\\left(\\small -y^{(i)}\\log\\left(a^{(i)}\\right) - (1-y^{(i)})\\log\\left(1- a^{(i)}\\right)  \\large  \\right) \\small.$$"
   ]
  },
  {
   "cell_type": "code",
   "execution_count": 23,
   "metadata": {
    "tags": [
     "graded"
    ]
   },
   "outputs": [
    {
     "name": "stdout",
     "output_type": "stream",
     "text": [
      "cost = 0.6930706421046496\n"
     ]
    }
   ],
   "source": [
    "def compute_cost(A, Y):\n",
    "    \"\"\"\n",
    "    Computes the log loss cost function\n",
    "\n",
    "    Arguments:\n",
    "    A -- The output of the neural network of shape (n_y, number of examples)\n",
    "    Y -- \"true\" labels vector of shape (n_y, number of examples)\n",
    "\n",
    "    Returns:\n",
    "    cost -- log loss\n",
    "\n",
    "    \"\"\"\n",
    "    # Number of examples.\n",
    "    m = Y.shape[1]\n",
    "\n",
    "    # Compute the cost function.\n",
    "    logprobs = - np.multiply(np.log(A), Y) - np.multiply(np.log(1 - A), 1 - Y)\n",
    "    cost = 1/m * np.sum(logprobs)\n",
    "\n",
    "    return cost\n",
    "\n",
    "\n",
    "print(\"cost = \" + str(compute_cost(A, Y)))"
   ]
  },
  {
   "cell_type": "markdown",
   "metadata": {
    "tags": [
     "graded"
    ]
   },
   "source": [
    "Calculate partial derivatives as shown in $(8)$:\n",
    "\n",
    "\\begin{align}\n",
    "\\frac{\\partial \\mathcal{L} }{ \\partial W } &= \\frac{1}{m}\\left(A - Y\\right)X^T,\\\\\n",
    "\\frac{\\partial \\mathcal{L} }{ \\partial b } &= \\frac{1}{m}\\left(A - Y\\right)\\mathbf{1}.\n",
    "\\end{align}"
   ]
  },
  {
   "cell_type": "code",
   "execution_count": 27,
   "metadata": {},
   "outputs": [
    {
     "name": "stdout",
     "output_type": "stream",
     "text": [
      "dW = [[ 0.21458652 -0.07029376]]\n",
      "db = [[0.16257072]]\n"
     ]
    }
   ],
   "source": [
    "def backward_propagation(A, X, Y):\n",
    "    \"\"\"\n",
    "    Implements the backward propagation, calculating gradients\n",
    "\n",
    "    Arguments:\n",
    "    A -- the output of the neural network of shape (n_y, number of examples)\n",
    "    X -- input data of shape (n_x, number of examples)\n",
    "    Y -- \"true\" labels vector of shape (n_y, number of examples)\n",
    "\n",
    "    Returns:\n",
    "    grads -- python dictionary containing gradients with respect to different parameters\n",
    "    \"\"\"\n",
    "    m = X.shape[1]\n",
    "\n",
    "    # Backward propagation: calculate partial derivatives denoted as dW, db for simplicity.\n",
    "    dZ = A - Y\n",
    "    dW = 1/m * np.dot(dZ, X.T)\n",
    "    db = 1/m * np.sum(dZ, axis=1, keepdims=True)\n",
    "\n",
    "    grads = {\"dW\": dW,\n",
    "             \"db\": db}\n",
    "\n",
    "    return grads\n",
    "\n",
    "\n",
    "grads = backward_propagation(A, X, Y)\n",
    "\n",
    "print(\"dW = \" + str(grads[\"dW\"]))\n",
    "print(\"db = \" + str(grads[\"db\"]))"
   ]
  },
  {
   "cell_type": "code",
   "execution_count": 26,
   "metadata": {},
   "outputs": [
    {
     "data": {
      "text/plain": [
       "(2, 30)"
      ]
     },
     "execution_count": 26,
     "metadata": {},
     "output_type": "execute_result"
    }
   ],
   "source": [
    "X.shape"
   ]
  },
  {
   "cell_type": "markdown",
   "metadata": {},
   "source": [
    "Update parameters as shown in $(9)$:\n",
    "\n",
    "\\begin{align}\n",
    "W &= W - \\alpha \\frac{\\partial \\mathcal{L} }{ \\partial W },\\\\\n",
    "b &= b - \\alpha \\frac{\\partial \\mathcal{L} }{ \\partial b }.\\end{align}"
   ]
  },
  {
   "cell_type": "code",
   "execution_count": 29,
   "metadata": {},
   "outputs": [
    {
     "name": "stdout",
     "output_type": "stream",
     "text": [
      "W updated = [[-0.26554149  0.06016168]]\n",
      "b updated = [[-0.19508486]]\n"
     ]
    }
   ],
   "source": [
    "def update_parameters(parameters, grads, learning_rate=1.2):\n",
    "    \"\"\"\n",
    "    Updates parameters using the gradient descent update rule\n",
    "\n",
    "    Arguments:\n",
    "    parameters -- python dictionary containing parameters \n",
    "    grads -- python dictionary containing gradients \n",
    "    learning_rate -- learning rate parameter for gradient descent\n",
    "\n",
    "    Returns:\n",
    "    parameters -- python dictionary containing updated parameters \n",
    "    \"\"\"\n",
    "    # Retrieve each parameter from the dictionary \"parameters\".\n",
    "    W = parameters[\"W\"]\n",
    "    b = parameters[\"b\"]\n",
    "\n",
    "    # Retrieve each gradient from the dictionary \"grads\".\n",
    "    dW = grads[\"dW\"]\n",
    "    db = grads[\"db\"]\n",
    "\n",
    "    # Update rule for each parameter.\n",
    "    W = W - learning_rate * dW\n",
    "    b = b - learning_rate * db\n",
    "\n",
    "    parameters = {\"W\": W,\n",
    "                  \"b\": b}\n",
    "\n",
    "    return parameters\n",
    "\n",
    "\n",
    "parameters_updated = update_parameters(parameters, grads)\n",
    "\n",
    "print(\"W updated = \" + str(parameters_updated[\"W\"]))\n",
    "print(\"b updated = \" + str(parameters_updated[\"b\"]))"
   ]
  },
  {
   "cell_type": "markdown",
   "metadata": {},
   "source": [
    "<a name='3.4'></a>\n",
    "### 3.4 - Integrate parts 3.1, 3.2 and 3.3 in nn_model() and make predictions"
   ]
  },
  {
   "cell_type": "markdown",
   "metadata": {},
   "source": [
    "Build your neural network model in `nn_model()`."
   ]
  },
  {
   "cell_type": "code",
   "execution_count": null,
   "metadata": {
    "tags": [
     "graded"
    ]
   },
   "outputs": [],
   "source": [
    "def nn_model(X, Y, num_iterations=10, learning_rate=1.2, print_cost=False):\n",
    "    \"\"\"\n",
    "    Arguments:\n",
    "    X -- dataset of shape (n_x, number of examples)\n",
    "    Y -- labels of shape (n_y, number of examples)\n",
    "    num_iterations -- number of iterations in the loop\n",
    "    learning_rate -- learning rate parameter for gradient descent\n",
    "    print_cost -- if True, print the cost every iteration\n",
    "\n",
    "    Returns:\n",
    "    parameters -- parameters learnt by the model. They can then be used to make predictions.\n",
    "    \"\"\"\n",
    "\n",
    "    n_x = layer_sizes(X, Y)[0]\n",
    "    n_y = layer_sizes(X, Y)[1]\n",
    "\n",
    "    parameters = initialize_parameters(n_x, n_y)\n",
    "\n",
    "    # Loop\n",
    "    for i in range(0, num_iterations):\n",
    "\n",
    "        # Forward propagation. Inputs: \"X, parameters\". Outputs: \"A\".\n",
    "        A = forward_propagation(X, parameters)\n",
    "\n",
    "        # Cost function. Inputs: \"A, Y\". Outputs: \"cost\".\n",
    "        cost = compute_cost(A, Y)\n",
    "\n",
    "        # Backpropagation. Inputs: \"A, X, Y\". Outputs: \"grads\".\n",
    "        grads = backward_propagation(A, X, Y)\n",
    "\n",
    "        # Gradient descent parameter update. Inputs: \"parameters, grads, learning_rate\". Outputs: \"parameters\".\n",
    "        parameters = update_parameters(parameters, grads, learning_rate)\n",
    "\n",
    "        # Print the cost every iteration.\n",
    "        if print_cost:\n",
    "            print(\"Cost after iteration %i: %f\" % (i, cost))\n",
    "\n",
    "    return parameters"
   ]
  },
  {
   "cell_type": "code",
   "execution_count": 32,
   "metadata": {
    "tags": [
     "graded"
    ]
   },
   "outputs": [
    {
     "name": "stdout",
     "output_type": "stream",
     "text": [
      "Cost after iteration 0: 0.691845\n",
      "Cost after iteration 1: 0.609402\n",
      "Cost after iteration 2: 0.555811\n",
      "Cost after iteration 3: 0.514479\n",
      "Cost after iteration 4: 0.480086\n",
      "Cost after iteration 5: 0.450540\n",
      "Cost after iteration 6: 0.424759\n",
      "Cost after iteration 7: 0.402037\n",
      "Cost after iteration 8: 0.381854\n",
      "Cost after iteration 9: 0.363802\n",
      "Cost after iteration 10: 0.347553\n",
      "Cost after iteration 11: 0.332840\n",
      "Cost after iteration 12: 0.319447\n",
      "Cost after iteration 13: 0.307194\n",
      "Cost after iteration 14: 0.295933\n",
      "Cost after iteration 15: 0.285540\n",
      "Cost after iteration 16: 0.275912\n",
      "Cost after iteration 17: 0.266962\n",
      "Cost after iteration 18: 0.258615\n",
      "Cost after iteration 19: 0.250807\n",
      "Cost after iteration 20: 0.243484\n",
      "Cost after iteration 21: 0.236599\n",
      "Cost after iteration 22: 0.230111\n",
      "Cost after iteration 23: 0.223984\n",
      "Cost after iteration 24: 0.218186\n",
      "Cost after iteration 25: 0.212691\n",
      "Cost after iteration 26: 0.207473\n",
      "Cost after iteration 27: 0.202511\n",
      "Cost after iteration 28: 0.197785\n",
      "Cost after iteration 29: 0.193278\n",
      "Cost after iteration 30: 0.188975\n",
      "Cost after iteration 31: 0.184860\n",
      "Cost after iteration 32: 0.180921\n",
      "Cost after iteration 33: 0.177148\n",
      "Cost after iteration 34: 0.173528\n",
      "Cost after iteration 35: 0.170053\n",
      "Cost after iteration 36: 0.166714\n",
      "Cost after iteration 37: 0.163502\n",
      "Cost after iteration 38: 0.160410\n",
      "Cost after iteration 39: 0.157432\n",
      "Cost after iteration 40: 0.154562\n",
      "Cost after iteration 41: 0.151792\n",
      "Cost after iteration 42: 0.149118\n",
      "Cost after iteration 43: 0.146535\n",
      "Cost after iteration 44: 0.144039\n",
      "Cost after iteration 45: 0.141624\n",
      "Cost after iteration 46: 0.139288\n",
      "Cost after iteration 47: 0.137025\n",
      "Cost after iteration 48: 0.134833\n",
      "Cost after iteration 49: 0.132709\n",
      "W = [[-3.57334687  3.23816644]]\n",
      "b = [[-1.58019512]]\n"
     ]
    }
   ],
   "source": [
    "parameters = nn_model(X, Y, num_iterations=50,\n",
    "                      learning_rate=1.2, print_cost=True)\n",
    "print(\"W = \" + str(parameters[\"W\"]))\n",
    "print(\"b = \" + str(parameters[\"b\"]))"
   ]
  },
  {
   "cell_type": "markdown",
   "metadata": {},
   "source": [
    "You can see that after about $40$ iterations the cost function does keep decreasing, but not as much. It is a sign that it might be reasonable to stop training there. The final model parameters can be used to find the boundary line and for making predictions. Let's visualize the boundary line."
   ]
  },
  {
   "cell_type": "code",
   "execution_count": 33,
   "metadata": {
    "tags": [
     "graded"
    ]
   },
   "outputs": [
    {
     "data": {
      "image/png": "[encoded data removed]",
      "text/plain": [
       "<Figure size 640x480 with 1 Axes>"
      ]
     },
     "metadata": {},
     "output_type": "display_data"
    }
   ],
   "source": [
    "def plot_decision_boundary(X, Y, parameters):\n",
    "    W = parameters[\"W\"]\n",
    "    b = parameters[\"b\"]\n",
    "\n",
    "    fig, ax = plt.subplots()\n",
    "    plt.scatter(X[0, :], X[1, :], c=Y,\n",
    "                cmap=colors.ListedColormap(['blue', 'red']))\n",
    "\n",
    "    x_line = np.arange(np.min(X[0, :]), np.max(X[0, :])*1.1, 0.1)\n",
    "    ax.plot(x_line, - W[0, 0] / W[0, 1] * x_line + -\n",
    "            b[0, 0] / W[0, 1], color=\"black\")\n",
    "    plt.plot()\n",
    "    plt.show()\n",
    "\n",
    "\n",
    "plot_decision_boundary(X, Y, parameters)"
   ]
  },
  {
   "cell_type": "markdown",
   "metadata": {},
   "source": [
    "And make some predictions:"
   ]
  },
  {
   "cell_type": "code",
   "execution_count": 35,
   "metadata": {},
   "outputs": [
    {
     "name": "stdout",
     "output_type": "stream",
     "text": [
      "Coordinates (in the columns):\n",
      "[[1 1 0 0]\n",
      " [0 1 0 1]]\n",
      "Predictions:\n",
      "[[False False False  True]]\n"
     ]
    }
   ],
   "source": [
    "def predict(X, parameters):\n",
    "    \"\"\"\n",
    "    Using the learned parameters, predicts a class for each example in X\n",
    "\n",
    "    Arguments:\n",
    "    parameters -- python dictionary containing your parameters \n",
    "    X -- input data of size (n_x, m)\n",
    "\n",
    "    Returns\n",
    "    predictions -- vector of predictions of our model (blue: False / red: True)\n",
    "    \"\"\"\n",
    "\n",
    "    # Computes probabilities using forward propagation, and classifies to 0/1 using 0.5 as the threshold.\n",
    "    A = forward_propagation(X, parameters)\n",
    "    predictions = A > 0.5\n",
    "\n",
    "    return predictions\n",
    "\n",
    "\n",
    "X_pred = np.array([[1, 1, 0, 0],\n",
    "                   [0, 1, 0, 1]])\n",
    "Y_pred = predict(X_pred, parameters)\n",
    "\n",
    "print(f\"Coordinates (in the columns):\\n{X_pred}\")\n",
    "print(f\"Predictions:\\n{Y_pred}\")"
   ]
  },
  {
   "cell_type": "markdown",
   "metadata": {},
   "source": [
    "Pretty good for such a simple neural network!"
   ]
  },
  {
   "cell_type": "markdown",
   "metadata": {},
   "source": [
    "<a name='4'></a>\n",
    "## 4 - Performance on a Larger Dataset\n",
    "\n",
    "Construct a larger and more complex dataset with the function `make_blobs` from the `sklearn.datasets` library:"
   ]
  },
  {
   "cell_type": "code",
   "execution_count": 36,
   "metadata": {},
   "outputs": [
    {
     "data": {
      "image/png": "[encoded data removed]",
      "text/plain": [
       "<Figure size 640x480 with 1 Axes>"
      ]
     },
     "metadata": {},
     "output_type": "display_data"
    }
   ],
   "source": [
    "# Dataset\n",
    "n_samples = 1000\n",
    "samples, labels = make_blobs(n_samples=n_samples,\n",
    "                             centers=([2.5, 3], [6.7, 7.9]),\n",
    "                             cluster_std=1.4,\n",
    "                             random_state=0)\n",
    "\n",
    "X_larger = np.transpose(samples)\n",
    "Y_larger = labels.reshape((1, n_samples))\n",
    "\n",
    "plt.scatter(X_larger[0, :], X_larger[1, :], c=Y_larger,\n",
    "            cmap=colors.ListedColormap(['blue', 'red']))"
   ]
  },
  {
   "cell_type": "markdown",
   "metadata": {},
   "source": [
    "And train your neural network for $100$ iterations."
   ]
  },
  {
   "cell_type": "code",
   "execution_count": 37,
   "metadata": {},
   "outputs": [
    {
     "name": "stdout",
     "output_type": "stream",
     "text": [
      "W = [[1.0128412 1.1200866]]\n",
      "b = [[-10.54069853]]\n"
     ]
    },
    {
     "name": "stderr",
     "output_type": "stream",
     "text": [
      "/tmp/ipykernel_78566/3146768556.py:17: RuntimeWarning: divide by zero encountered in log\n",
      "  logprobs = - np.multiply(np.log(A),Y) - np.multiply(np.log(1 - A),1 - Y)\n",
      "/tmp/ipykernel_78566/3146768556.py:17: RuntimeWarning: invalid value encountered in multiply\n",
      "  logprobs = - np.multiply(np.log(A),Y) - np.multiply(np.log(1 - A),1 - Y)\n"
     ]
    }
   ],
   "source": [
    "parameters_larger = nn_model(\n",
    "    X_larger, Y_larger, num_iterations=100, learning_rate=1.2, print_cost=False)\n",
    "print(\"W = \" + str(parameters_larger[\"W\"]))\n",
    "print(\"b = \" + str(parameters_larger[\"b\"]))"
   ]
  },
  {
   "cell_type": "markdown",
   "metadata": {},
   "source": [
    "Plot the decision boundary:"
   ]
  },
  {
   "cell_type": "code",
   "execution_count": 38,
   "metadata": {},
   "outputs": [
    {
     "data": {
      "image/png": "[encoded data removed]",
      "text/plain": [
       "<Figure size 640x480 with 1 Axes>"
      ]
     },
     "metadata": {},
     "output_type": "display_data"
    }
   ],
   "source": [
    "plot_decision_boundary(X_larger, Y_larger, parameters_larger)"
   ]
  },
  {
   "cell_type": "markdown",
   "metadata": {},
   "source": [
    "Try to change values of the parameters `num_iterations` and `learning_rate` and see if the results will be different."
   ]
  },
  {
   "cell_type": "markdown",
   "metadata": {},
   "source": [
    "Congrats on finishing the lab!"
   ]
  }
 ],
 "metadata": {
  "accelerator": "GPU",
  "colab": {
   "collapsed_sections": [],
   "name": "C1_W1_Assignment_Solution.ipynb",
   "provenance": []
  },
  "coursera": {
   "schema_names": [
    "AI4MC1-1"
   ]
  },
  "grader_version": "1",
  "kernelspec": {
   "display_name": "venv_ml",
   "language": "python",
   "name": "python3"
  },
  "language_info": {
   "codemirror_mode": {
    "name": "ipython",
    "version": 3
   },
   "file_extension": ".py",
   "mimetype": "text/x-python",
   "name": "python",
   "nbconvert_exporter": "python",
   "pygments_lexer": "ipython3",
   "version": "3.11.13"
  },
  "toc": {
   "base_numbering": 1,
   "nav_menu": {},
   "number_sections": true,
   "sideBar": true,
   "skip_h1_title": false,
   "title_cell": "Table of Contents",
   "title_sidebar": "Contents",
   "toc_cell": false,
   "toc_position": {},
   "toc_section_display": true,
   "toc_window_display": false
  }
 },
 "nbformat": 4,
 "nbformat_minor": 1
}
